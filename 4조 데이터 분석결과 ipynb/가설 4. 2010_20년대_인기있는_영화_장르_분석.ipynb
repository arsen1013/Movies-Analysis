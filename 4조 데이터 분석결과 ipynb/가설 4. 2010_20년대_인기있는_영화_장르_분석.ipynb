{
  "cells": [
    {
      "cell_type": "markdown",
      "source": [
        "# **[2010년대~20년대 영화 top 600개 분석]**\n",
        "*feat. 한국 사람들이 선호하는 영화 장르는*?\n",
        "\n",
        "*한국 영화 흥행을 위해 감독들은 어떤 장르를 많이 만들어야 하나?*"
      ],
      "metadata": {
        "id": "E6nB8o5f1JTL"
      }
    },
    {
      "cell_type": "code",
      "execution_count": null,
      "metadata": {
        "id": "whJoPCbYFV6d"
      },
      "outputs": [],
      "source": [
        "import numpy as np"
      ]
    },
    {
      "cell_type": "code",
      "execution_count": null,
      "metadata": {
        "id": "-SxS4bNFD4OY"
      },
      "outputs": [],
      "source": [
        "import pandas as pd \n",
        "import lightgbm as lgb"
      ]
    },
    {
      "cell_type": "code",
      "execution_count": null,
      "metadata": {
        "id": "p5AkRZFED6_-"
      },
      "outputs": [],
      "source": [
        "df = pd.read_csv('movies_train.csv')"
      ]
    },
    {
      "cell_type": "markdown",
      "metadata": {
        "id": "aaWgAx1aEGnv"
      },
      "source": [
        "+ title : 영화의 제목\n",
        "+ distributor : 배급사\n",
        "+ genre : 장르\n",
        "+ release_time : 개봉일\n",
        "+ time : 상영시간(분)\n",
        "+ screening_rat : 상영등급\n",
        "+ director : 감독이름\n",
        "+ dir_prev_bfnum : 해당 감독이 이 영화를 만들기 전 제작에 참여한 영화에서의 평균 관객수(단 관객수가 알려지지 않은 영화 제외)\n",
        "+ dir_prev_num : 해당 감독이 이 영화를 만들기 전 제작에 참여한 영화의 개수(단 관객수가 알려지지 않은 영화 제외)\n",
        "+ num_staff : 스텝수\n",
        "+ num_actor : 주연배우수\n",
        "+ box_off_num : 관객수"
      ]
    },
    {
      "cell_type": "code",
      "execution_count": null,
      "metadata": {
        "colab": {
          "base_uri": "https://localhost:8080/",
          "height": 417
        },
        "id": "nK8hg1gDECsI",
        "outputId": "9a9497d1-fcb7-4f4d-dd50-0e5768779386"
      },
      "outputs": [
        {
          "data": {
            "text/html": [
              "<div>\n",
              "<style scoped>\n",
              "    .dataframe tbody tr th:only-of-type {\n",
              "        vertical-align: middle;\n",
              "    }\n",
              "\n",
              "    .dataframe tbody tr th {\n",
              "        vertical-align: top;\n",
              "    }\n",
              "\n",
              "    .dataframe thead th {\n",
              "        text-align: right;\n",
              "    }\n",
              "</style>\n",
              "<table border=\"1\" class=\"dataframe\">\n",
              "  <thead>\n",
              "    <tr style=\"text-align: right;\">\n",
              "      <th></th>\n",
              "      <th>title</th>\n",
              "      <th>distributor</th>\n",
              "      <th>genre</th>\n",
              "      <th>release_time</th>\n",
              "      <th>time</th>\n",
              "      <th>screening_rat</th>\n",
              "      <th>director</th>\n",
              "      <th>dir_prev_bfnum</th>\n",
              "      <th>dir_prev_num</th>\n",
              "      <th>num_staff</th>\n",
              "      <th>num_actor</th>\n",
              "      <th>box_off_num</th>\n",
              "    </tr>\n",
              "  </thead>\n",
              "  <tbody>\n",
              "    <tr>\n",
              "      <th>0</th>\n",
              "      <td>개들의 전쟁</td>\n",
              "      <td>롯데엔터테인먼트</td>\n",
              "      <td>액션</td>\n",
              "      <td>2012-11-22</td>\n",
              "      <td>96</td>\n",
              "      <td>청소년 관람불가</td>\n",
              "      <td>조병옥</td>\n",
              "      <td>NaN</td>\n",
              "      <td>0</td>\n",
              "      <td>91</td>\n",
              "      <td>2</td>\n",
              "      <td>23398</td>\n",
              "    </tr>\n",
              "    <tr>\n",
              "      <th>1</th>\n",
              "      <td>내부자들</td>\n",
              "      <td>(주)쇼박스</td>\n",
              "      <td>느와르</td>\n",
              "      <td>2015-11-19</td>\n",
              "      <td>130</td>\n",
              "      <td>청소년 관람불가</td>\n",
              "      <td>우민호</td>\n",
              "      <td>1161602.50</td>\n",
              "      <td>2</td>\n",
              "      <td>387</td>\n",
              "      <td>3</td>\n",
              "      <td>7072501</td>\n",
              "    </tr>\n",
              "    <tr>\n",
              "      <th>2</th>\n",
              "      <td>은밀하게 위대하게</td>\n",
              "      <td>(주)쇼박스</td>\n",
              "      <td>액션</td>\n",
              "      <td>2013-06-05</td>\n",
              "      <td>123</td>\n",
              "      <td>15세 관람가</td>\n",
              "      <td>장철수</td>\n",
              "      <td>220775.25</td>\n",
              "      <td>4</td>\n",
              "      <td>343</td>\n",
              "      <td>4</td>\n",
              "      <td>6959083</td>\n",
              "    </tr>\n",
              "    <tr>\n",
              "      <th>3</th>\n",
              "      <td>나는 공무원이다</td>\n",
              "      <td>(주)NEW</td>\n",
              "      <td>코미디</td>\n",
              "      <td>2012-07-12</td>\n",
              "      <td>101</td>\n",
              "      <td>전체 관람가</td>\n",
              "      <td>구자홍</td>\n",
              "      <td>23894.00</td>\n",
              "      <td>2</td>\n",
              "      <td>20</td>\n",
              "      <td>6</td>\n",
              "      <td>217866</td>\n",
              "    </tr>\n",
              "    <tr>\n",
              "      <th>4</th>\n",
              "      <td>불량남녀</td>\n",
              "      <td>쇼박스(주)미디어플렉스</td>\n",
              "      <td>코미디</td>\n",
              "      <td>2010-11-04</td>\n",
              "      <td>108</td>\n",
              "      <td>15세 관람가</td>\n",
              "      <td>신근호</td>\n",
              "      <td>1.00</td>\n",
              "      <td>1</td>\n",
              "      <td>251</td>\n",
              "      <td>2</td>\n",
              "      <td>483387</td>\n",
              "    </tr>\n",
              "  </tbody>\n",
              "</table>\n",
              "</div>"
            ],
            "text/plain": [
              "       title   distributor genre  ... num_staff  num_actor box_off_num\n",
              "0     개들의 전쟁      롯데엔터테인먼트    액션  ...        91          2       23398\n",
              "1       내부자들        (주)쇼박스   느와르  ...       387          3     7072501\n",
              "2  은밀하게 위대하게        (주)쇼박스    액션  ...       343          4     6959083\n",
              "3   나는 공무원이다        (주)NEW   코미디  ...        20          6      217866\n",
              "4       불량남녀  쇼박스(주)미디어플렉스   코미디  ...       251          2      483387\n",
              "\n",
              "[5 rows x 12 columns]"
            ]
          },
          "execution_count": 27,
          "metadata": {},
          "output_type": "execute_result"
        }
      ],
      "source": [
        "df.head()"
      ]
    },
    {
      "cell_type": "code",
      "execution_count": null,
      "metadata": {
        "colab": {
          "base_uri": "https://localhost:8080/"
        },
        "id": "t3p7elR0EUl2",
        "outputId": "22ff89b7-e2f1-49ec-b2e7-44611c9aaceb"
      },
      "outputs": [
        {
          "name": "stdout",
          "output_type": "stream",
          "text": [
            "(600, 12)\n"
          ]
        }
      ],
      "source": [
        "print(df.shape)"
      ]
    },
    {
      "cell_type": "markdown",
      "metadata": {
        "id": "RYvMLQ7Y727H"
      },
      "source": [
        "**[결측치 있는지 확인해보기]**\n",
        "\n"
      ]
    },
    {
      "cell_type": "code",
      "execution_count": null,
      "metadata": {
        "colab": {
          "base_uri": "https://localhost:8080/"
        },
        "id": "DF-EOFTAFphG",
        "outputId": "70530103-4d3b-4924-cb30-817be34a2d93"
      },
      "outputs": [
        {
          "data": {
            "text/plain": [
              "title               0\n",
              "distributor         0\n",
              "genre               0\n",
              "release_time        0\n",
              "time                0\n",
              "screening_rat       0\n",
              "director            0\n",
              "dir_prev_bfnum    330\n",
              "dir_prev_num        0\n",
              "num_staff           0\n",
              "num_actor           0\n",
              "box_off_num         0\n",
              "dtype: int64"
            ]
          },
          "execution_count": 29,
          "metadata": {},
          "output_type": "execute_result"
        }
      ],
      "source": [
        "df.isnull().sum()"
      ]
    },
    {
      "cell_type": "markdown",
      "metadata": {
        "id": "kGZqXuMlFtc2"
      },
      "source": [
        "**[데이터 요약해보기]**"
      ]
    },
    {
      "cell_type": "markdown",
      "metadata": {
        "id": "1jFAP_oaFzB6"
      },
      "source": [
        "1. 어떤 칼럼이 있는지, 어떤 타입인지 확인하기"
      ]
    },
    {
      "cell_type": "code",
      "execution_count": null,
      "metadata": {
        "colab": {
          "base_uri": "https://localhost:8080/"
        },
        "id": "_mL8cB7JFwNS",
        "outputId": "03ff9706-2a57-4863-aaae-d6ec0f2dca14"
      },
      "outputs": [
        {
          "name": "stdout",
          "output_type": "stream",
          "text": [
            "<class 'pandas.core.frame.DataFrame'>\n",
            "RangeIndex: 600 entries, 0 to 599\n",
            "Data columns (total 12 columns):\n",
            " #   Column          Non-Null Count  Dtype  \n",
            "---  ------          --------------  -----  \n",
            " 0   title           600 non-null    object \n",
            " 1   distributor     600 non-null    object \n",
            " 2   genre           600 non-null    object \n",
            " 3   release_time    600 non-null    object \n",
            " 4   time            600 non-null    int64  \n",
            " 5   screening_rat   600 non-null    object \n",
            " 6   director        600 non-null    object \n",
            " 7   dir_prev_bfnum  270 non-null    float64\n",
            " 8   dir_prev_num    600 non-null    int64  \n",
            " 9   num_staff       600 non-null    int64  \n",
            " 10  num_actor       600 non-null    int64  \n",
            " 11  box_off_num     600 non-null    int64  \n",
            "dtypes: float64(1), int64(5), object(6)\n",
            "memory usage: 56.4+ KB\n"
          ]
        }
      ],
      "source": [
        "df.info()"
      ]
    },
    {
      "cell_type": "markdown",
      "metadata": {
        "id": "SoMbVljBF2ym"
      },
      "source": [
        "2.데이터 타입"
      ]
    },
    {
      "cell_type": "code",
      "execution_count": null,
      "metadata": {
        "colab": {
          "base_uri": "https://localhost:8080/"
        },
        "id": "6oaTKKp7F5H3",
        "outputId": "53efa5d9-9e2e-48df-a755-cf6df58ac8f9"
      },
      "outputs": [
        {
          "data": {
            "text/plain": [
              "title              object\n",
              "distributor        object\n",
              "genre              object\n",
              "release_time       object\n",
              "time                int64\n",
              "screening_rat      object\n",
              "director           object\n",
              "dir_prev_bfnum    float64\n",
              "dir_prev_num        int64\n",
              "num_staff           int64\n",
              "num_actor           int64\n",
              "box_off_num         int64\n",
              "dtype: object"
            ]
          },
          "execution_count": 31,
          "metadata": {},
          "output_type": "execute_result"
        }
      ],
      "source": [
        "df.dtypes"
      ]
    },
    {
      "cell_type": "markdown",
      "metadata": {
        "id": "rsaZows0F7zH"
      },
      "source": [
        "3.컬럼 이름"
      ]
    },
    {
      "cell_type": "code",
      "execution_count": null,
      "metadata": {
        "colab": {
          "base_uri": "https://localhost:8080/"
        },
        "id": "DaBmGypJF-EN",
        "outputId": "f74932b5-e0a8-4787-f63d-ddec49b8e8d4"
      },
      "outputs": [
        {
          "data": {
            "text/plain": [
              "Index(['title', 'distributor', 'genre', 'release_time', 'time',\n",
              "       'screening_rat', 'director', 'dir_prev_bfnum', 'dir_prev_num',\n",
              "       'num_staff', 'num_actor', 'box_off_num'],\n",
              "      dtype='object')"
            ]
          },
          "execution_count": 32,
          "metadata": {},
          "output_type": "execute_result"
        }
      ],
      "source": [
        "df.columns"
      ]
    },
    {
      "cell_type": "markdown",
      "metadata": {
        "id": "hqqD4wdjF_9-"
      },
      "source": [
        "4. 수치형 데이터에 대한 요약"
      ]
    },
    {
      "cell_type": "code",
      "execution_count": null,
      "metadata": {
        "colab": {
          "base_uri": "https://localhost:8080/",
          "height": 300
        },
        "id": "2gdI2G83GCuJ",
        "outputId": "dcc1bada-2ee0-42ee-f20e-f53025c7d060"
      },
      "outputs": [
        {
          "data": {
            "text/html": [
              "<div>\n",
              "<style scoped>\n",
              "    .dataframe tbody tr th:only-of-type {\n",
              "        vertical-align: middle;\n",
              "    }\n",
              "\n",
              "    .dataframe tbody tr th {\n",
              "        vertical-align: top;\n",
              "    }\n",
              "\n",
              "    .dataframe thead th {\n",
              "        text-align: right;\n",
              "    }\n",
              "</style>\n",
              "<table border=\"1\" class=\"dataframe\">\n",
              "  <thead>\n",
              "    <tr style=\"text-align: right;\">\n",
              "      <th></th>\n",
              "      <th>time</th>\n",
              "      <th>dir_prev_bfnum</th>\n",
              "      <th>dir_prev_num</th>\n",
              "      <th>num_staff</th>\n",
              "      <th>num_actor</th>\n",
              "      <th>box_off_num</th>\n",
              "    </tr>\n",
              "  </thead>\n",
              "  <tbody>\n",
              "    <tr>\n",
              "      <th>count</th>\n",
              "      <td>600.000000</td>\n",
              "      <td>2.700000e+02</td>\n",
              "      <td>600.000000</td>\n",
              "      <td>600.000000</td>\n",
              "      <td>600.000000</td>\n",
              "      <td>6.000000e+02</td>\n",
              "    </tr>\n",
              "    <tr>\n",
              "      <th>mean</th>\n",
              "      <td>100.863333</td>\n",
              "      <td>1.050443e+06</td>\n",
              "      <td>0.876667</td>\n",
              "      <td>151.118333</td>\n",
              "      <td>3.706667</td>\n",
              "      <td>7.081818e+05</td>\n",
              "    </tr>\n",
              "    <tr>\n",
              "      <th>std</th>\n",
              "      <td>18.097528</td>\n",
              "      <td>1.791408e+06</td>\n",
              "      <td>1.183409</td>\n",
              "      <td>165.654671</td>\n",
              "      <td>2.446889</td>\n",
              "      <td>1.828006e+06</td>\n",
              "    </tr>\n",
              "    <tr>\n",
              "      <th>min</th>\n",
              "      <td>45.000000</td>\n",
              "      <td>1.000000e+00</td>\n",
              "      <td>0.000000</td>\n",
              "      <td>0.000000</td>\n",
              "      <td>0.000000</td>\n",
              "      <td>1.000000e+00</td>\n",
              "    </tr>\n",
              "    <tr>\n",
              "      <th>25%</th>\n",
              "      <td>89.000000</td>\n",
              "      <td>2.038000e+04</td>\n",
              "      <td>0.000000</td>\n",
              "      <td>17.000000</td>\n",
              "      <td>2.000000</td>\n",
              "      <td>1.297250e+03</td>\n",
              "    </tr>\n",
              "    <tr>\n",
              "      <th>50%</th>\n",
              "      <td>100.000000</td>\n",
              "      <td>4.784236e+05</td>\n",
              "      <td>0.000000</td>\n",
              "      <td>82.500000</td>\n",
              "      <td>3.000000</td>\n",
              "      <td>1.259100e+04</td>\n",
              "    </tr>\n",
              "    <tr>\n",
              "      <th>75%</th>\n",
              "      <td>114.000000</td>\n",
              "      <td>1.286569e+06</td>\n",
              "      <td>2.000000</td>\n",
              "      <td>264.000000</td>\n",
              "      <td>4.000000</td>\n",
              "      <td>4.798868e+05</td>\n",
              "    </tr>\n",
              "    <tr>\n",
              "      <th>max</th>\n",
              "      <td>180.000000</td>\n",
              "      <td>1.761531e+07</td>\n",
              "      <td>5.000000</td>\n",
              "      <td>869.000000</td>\n",
              "      <td>25.000000</td>\n",
              "      <td>1.426277e+07</td>\n",
              "    </tr>\n",
              "  </tbody>\n",
              "</table>\n",
              "</div>"
            ],
            "text/plain": [
              "             time  dir_prev_bfnum  ...   num_actor   box_off_num\n",
              "count  600.000000    2.700000e+02  ...  600.000000  6.000000e+02\n",
              "mean   100.863333    1.050443e+06  ...    3.706667  7.081818e+05\n",
              "std     18.097528    1.791408e+06  ...    2.446889  1.828006e+06\n",
              "min     45.000000    1.000000e+00  ...    0.000000  1.000000e+00\n",
              "25%     89.000000    2.038000e+04  ...    2.000000  1.297250e+03\n",
              "50%    100.000000    4.784236e+05  ...    3.000000  1.259100e+04\n",
              "75%    114.000000    1.286569e+06  ...    4.000000  4.798868e+05\n",
              "max    180.000000    1.761531e+07  ...   25.000000  1.426277e+07\n",
              "\n",
              "[8 rows x 6 columns]"
            ]
          },
          "execution_count": 33,
          "metadata": {},
          "output_type": "execute_result"
        }
      ],
      "source": [
        "df.describe()"
      ]
    },
    {
      "cell_type": "code",
      "execution_count": null,
      "metadata": {
        "colab": {
          "base_uri": "https://localhost:8080/"
        },
        "id": "mSi4j1yIQDyl",
        "outputId": "3b2ebaeb-809c-4503-db29-441d4ed098ae"
      },
      "outputs": [
        {
          "data": {
            "text/plain": [
              "1050443.0"
            ]
          },
          "execution_count": 68,
          "metadata": {},
          "output_type": "execute_result"
        }
      ],
      "source": [
        "1.050443 * 10 ** 6"
      ]
    },
    {
      "cell_type": "code",
      "execution_count": null,
      "metadata": {
        "id": "slITzvAFQcZD"
      },
      "outputs": [],
      "source": [
        "pd.options.display.float_format = '{:.1f}'.format"
      ]
    },
    {
      "cell_type": "markdown",
      "metadata": {
        "id": "k_b0ki-cQkj0"
      },
      "source": [
        "**[어느 장르를 사람들이 많이 보는가?]**"
      ]
    },
    {
      "cell_type": "code",
      "execution_count": null,
      "metadata": {
        "colab": {
          "base_uri": "https://localhost:8080/",
          "height": 457
        },
        "id": "dtwDuYIUQhma",
        "outputId": "654d82ed-faae-4e1a-8869-f6762ff986ae"
      },
      "outputs": [
        {
          "data": {
            "text/html": [
              "<div>\n",
              "<style scoped>\n",
              "    .dataframe tbody tr th:only-of-type {\n",
              "        vertical-align: middle;\n",
              "    }\n",
              "\n",
              "    .dataframe tbody tr th {\n",
              "        vertical-align: top;\n",
              "    }\n",
              "\n",
              "    .dataframe thead th {\n",
              "        text-align: right;\n",
              "    }\n",
              "</style>\n",
              "<table border=\"1\" class=\"dataframe\">\n",
              "  <thead>\n",
              "    <tr style=\"text-align: right;\">\n",
              "      <th></th>\n",
              "      <th>box_off_num</th>\n",
              "    </tr>\n",
              "    <tr>\n",
              "      <th>genre</th>\n",
              "      <th></th>\n",
              "    </tr>\n",
              "  </thead>\n",
              "  <tbody>\n",
              "    <tr>\n",
              "      <th>뮤지컬</th>\n",
              "      <td>6627.0</td>\n",
              "    </tr>\n",
              "    <tr>\n",
              "      <th>다큐멘터리</th>\n",
              "      <td>67172.3</td>\n",
              "    </tr>\n",
              "    <tr>\n",
              "      <th>서스펜스</th>\n",
              "      <td>82611.0</td>\n",
              "    </tr>\n",
              "    <tr>\n",
              "      <th>애니메이션</th>\n",
              "      <td>181926.7</td>\n",
              "    </tr>\n",
              "    <tr>\n",
              "      <th>멜로/로맨스</th>\n",
              "      <td>425968.0</td>\n",
              "    </tr>\n",
              "    <tr>\n",
              "      <th>미스터리</th>\n",
              "      <td>527548.2</td>\n",
              "    </tr>\n",
              "    <tr>\n",
              "      <th>공포</th>\n",
              "      <td>590832.5</td>\n",
              "    </tr>\n",
              "    <tr>\n",
              "      <th>드라마</th>\n",
              "      <td>625689.8</td>\n",
              "    </tr>\n",
              "    <tr>\n",
              "      <th>코미디</th>\n",
              "      <td>1193914.0</td>\n",
              "    </tr>\n",
              "    <tr>\n",
              "      <th>SF</th>\n",
              "      <td>1788345.7</td>\n",
              "    </tr>\n",
              "    <tr>\n",
              "      <th>액션</th>\n",
              "      <td>2203974.1</td>\n",
              "    </tr>\n",
              "    <tr>\n",
              "      <th>느와르</th>\n",
              "      <td>2263695.1</td>\n",
              "    </tr>\n",
              "  </tbody>\n",
              "</table>\n",
              "</div>"
            ],
            "text/plain": [
              "        box_off_num\n",
              "genre              \n",
              "뮤지컬          6627.0\n",
              "다큐멘터리       67172.3\n",
              "서스펜스        82611.0\n",
              "애니메이션      181926.7\n",
              "멜로/로맨스     425968.0\n",
              "미스터리       527548.2\n",
              "공포         590832.5\n",
              "드라마        625689.8\n",
              "코미디       1193914.0\n",
              "SF        1788345.7\n",
              "액션        2203974.1\n",
              "느와르       2263695.1"
            ]
          },
          "execution_count": 70,
          "metadata": {},
          "output_type": "execute_result"
        }
      ],
      "source": [
        "train[['genre', 'box_off_num']].groupby('genre').mean().sort_values('box_off_num')"
      ]
    },
    {
      "cell_type": "markdown",
      "source": [
        "2010년대~20년대까지 사람들이 가장 많이 본 영화 장르 top 5를 선정하자면, 다음과 같다.\n",
        "\n",
        "느와르 / 액션 / SF / 코미디 /드라마"
      ],
      "metadata": {
        "id": "q-SqCz_46r79"
      }
    },
    {
      "cell_type": "code",
      "source": [
        "import matplotlib.pyplot as plt\n",
        "\n",
        "ratio = [2263695, 2203974, 1788345, 1193914, 625689]\n",
        "labels = ['Noir', 'Action', 'SF', 'Comedy', 'Drama']\n",
        "explode = [0.05, 0.05, 0.05, 0.05, 0.05]\n",
        "colors = ['#ff9999', '#ffc000', '#8fd9b6', '#d395d0', '#17becf']\n",
        "\n",
        "plt.pie(ratio, labels=labels, autopct='%.1f%%', startangle=260, counterclock=False, explode=explode, shadow=True, colors=colors)\n",
        "plt.show()"
      ],
      "metadata": {
        "colab": {
          "base_uri": "https://localhost:8080/",
          "height": 248
        },
        "id": "_GUijSP27DRf",
        "outputId": "a45b4658-6028-417f-a825-3e4a196c279a"
      },
      "execution_count": 37,
      "outputs": [
        {
          "output_type": "display_data",
          "data": {
            "image/png": "[encoded data removed]",
            "text/plain": [
              "<Figure size 432x288 with 1 Axes>"
            ]
          },
          "metadata": {}
        }
      ]
    },
    {
      "cell_type": "markdown",
      "metadata": {
        "id": "WFkDIp8dGjWG"
      },
      "source": [
        "**[1000만 관객 이상 영화 장르 확인하기]**"
      ]
    },
    {
      "cell_type": "code",
      "execution_count": null,
      "metadata": {
        "colab": {
          "base_uri": "https://localhost:8080/"
        },
        "id": "EjchgSwTGi0O",
        "outputId": "36d0195f-1abc-40ec-aef0-a682806cedcb"
      },
      "outputs": [
        {
          "data": {
            "text/plain": [
              "(6, 12)"
            ]
          },
          "execution_count": 35,
          "metadata": {},
          "output_type": "execute_result"
        }
      ],
      "source": [
        "df_20 = df.loc[df['box_off_num'] > 10000000]\n",
        "df_20.shape"
      ]
    },
    {
      "cell_type": "code",
      "execution_count": null,
      "metadata": {
        "colab": {
          "base_uri": "https://localhost:8080/"
        },
        "id": "uMmfT2UUGz48",
        "outputId": "f4d7f41b-f198-4613-c5e9-e7a9e6cd1a72"
      },
      "outputs": [
        {
          "data": {
            "text/plain": [
              "드라마    3\n",
              "느와르    1\n",
              "코미디    1\n",
              "액션     1\n",
              "Name: genre, dtype: int64"
            ]
          },
          "execution_count": 38,
          "metadata": {},
          "output_type": "execute_result"
        }
      ],
      "source": [
        "df_20.genre.value_counts()"
      ]
    },
    {
      "cell_type": "code",
      "source": [
        "import matplotlib.pyplot as plt\n",
        "\n",
        "ratio = [1, 1, 1, 3]\n",
        "labels = ['Noir', 'Action', 'Comedy', 'Drama']\n",
        "explode = [0.05, 0.05, 0.05, 0.05]\n",
        "colors = ['#ff9999', '#ffc000', '#8fd9b6', '#d395d0']\n",
        "\n",
        "plt.pie(ratio, labels=labels, autopct='%.1f%%', startangle=260, counterclock=False, explode=explode, shadow=True, colors=colors)\n",
        "plt.show()"
      ],
      "metadata": {
        "colab": {
          "base_uri": "https://localhost:8080/",
          "height": 248
        },
        "id": "_Ka0KPl0FuZt",
        "outputId": "481dde9c-0ac3-4a90-9f4c-a1c42c64f174"
      },
      "execution_count": 39,
      "outputs": [
        {
          "output_type": "display_data",
          "data": {
            "image/png": "[encoded data removed]",
            "text/plain": [
              "<Figure size 432x288 with 1 Axes>"
            ]
          },
          "metadata": {}
        }
      ]
    },
    {
      "cell_type": "markdown",
      "metadata": {
        "id": "2Q5qL9tMGimZ"
      },
      "source": [
        "**[어느 장르의 영화가 가장 많이 만들어졌는가?]**"
      ]
    },
    {
      "cell_type": "code",
      "execution_count": null,
      "metadata": {
        "colab": {
          "base_uri": "https://localhost:8080/",
          "height": 426
        },
        "id": "rt6R7feYLOd3",
        "outputId": "809d2c7e-d671-4c75-9c97-7ae561892607"
      },
      "outputs": [
        {
          "data": {
            "text/html": [
              "<div>\n",
              "<style scoped>\n",
              "    .dataframe tbody tr th:only-of-type {\n",
              "        vertical-align: middle;\n",
              "    }\n",
              "\n",
              "    .dataframe tbody tr th {\n",
              "        vertical-align: top;\n",
              "    }\n",
              "\n",
              "    .dataframe thead th {\n",
              "        text-align: right;\n",
              "    }\n",
              "</style>\n",
              "<table border=\"1\" class=\"dataframe\">\n",
              "  <thead>\n",
              "    <tr style=\"text-align: right;\">\n",
              "      <th></th>\n",
              "      <th>genre</th>\n",
              "      <th>counts</th>\n",
              "    </tr>\n",
              "  </thead>\n",
              "  <tbody>\n",
              "    <tr>\n",
              "      <th>0</th>\n",
              "      <td>드라마</td>\n",
              "      <td>221</td>\n",
              "    </tr>\n",
              "    <tr>\n",
              "      <th>1</th>\n",
              "      <td>다큐멘터리</td>\n",
              "      <td>93</td>\n",
              "    </tr>\n",
              "    <tr>\n",
              "      <th>2</th>\n",
              "      <td>멜로/로맨스</td>\n",
              "      <td>78</td>\n",
              "    </tr>\n",
              "    <tr>\n",
              "      <th>3</th>\n",
              "      <td>코미디</td>\n",
              "      <td>53</td>\n",
              "    </tr>\n",
              "    <tr>\n",
              "      <th>4</th>\n",
              "      <td>공포</td>\n",
              "      <td>42</td>\n",
              "    </tr>\n",
              "    <tr>\n",
              "      <th>5</th>\n",
              "      <td>액션</td>\n",
              "      <td>28</td>\n",
              "    </tr>\n",
              "    <tr>\n",
              "      <th>6</th>\n",
              "      <td>느와르</td>\n",
              "      <td>27</td>\n",
              "    </tr>\n",
              "    <tr>\n",
              "      <th>7</th>\n",
              "      <td>애니메이션</td>\n",
              "      <td>21</td>\n",
              "    </tr>\n",
              "    <tr>\n",
              "      <th>8</th>\n",
              "      <td>미스터리</td>\n",
              "      <td>17</td>\n",
              "    </tr>\n",
              "    <tr>\n",
              "      <th>9</th>\n",
              "      <td>SF</td>\n",
              "      <td>13</td>\n",
              "    </tr>\n",
              "    <tr>\n",
              "      <th>10</th>\n",
              "      <td>뮤지컬</td>\n",
              "      <td>5</td>\n",
              "    </tr>\n",
              "    <tr>\n",
              "      <th>11</th>\n",
              "      <td>서스펜스</td>\n",
              "      <td>2</td>\n",
              "    </tr>\n",
              "  </tbody>\n",
              "</table>\n",
              "</div>"
            ],
            "text/plain": [
              "     genre  counts\n",
              "0      드라마     221\n",
              "1    다큐멘터리      93\n",
              "2   멜로/로맨스      78\n",
              "3      코미디      53\n",
              "4       공포      42\n",
              "5       액션      28\n",
              "6      느와르      27\n",
              "7    애니메이션      21\n",
              "8     미스터리      17\n",
              "9       SF      13\n",
              "10     뮤지컬       5\n",
              "11    서스펜스       2"
            ]
          },
          "execution_count": 45,
          "metadata": {},
          "output_type": "execute_result"
        }
      ],
      "source": [
        "category = pd.DataFrame(df['genre'].value_counts()).reset_index()\n",
        "category.columns = ['genre', 'counts']\n",
        "category"
      ]
    },
    {
      "cell_type": "code",
      "source": [
        "import matplotlib.pyplot as plt\n",
        "\n",
        "ratio = [221, 93, 78, 53, 42]\n",
        "labels = ['Drama', 'Dacumentary', 'Romance', 'Comedy', 'Horror']\n",
        "explode = [0.05, 0.05, 0.05, 0.05, 0.05]\n",
        "colors = ['#ff9999', '#ffc000', '#8fd9b6', '#d395d0', '#17becf']\n",
        "\n",
        "plt.pie(ratio, labels=labels, autopct='%.1f%%', startangle=260, counterclock=False, explode=explode, shadow=True, colors=colors)\n",
        "plt.show()"
      ],
      "metadata": {
        "colab": {
          "base_uri": "https://localhost:8080/",
          "height": 248
        },
        "id": "X0KOaDXrCVAU",
        "outputId": "1bd9a3a2-4fe8-4437-cd56-43011f567d50"
      },
      "execution_count": 38,
      "outputs": [
        {
          "output_type": "display_data",
          "data": {
            "image/png": "[encoded data removed]",
            "text/plain": [
              "<Figure size 432x288 with 1 Axes>"
            ]
          },
          "metadata": {}
        }
      ]
    },
    {
      "cell_type": "markdown",
      "metadata": {
        "id": "CLRgQhvyRC1D"
      },
      "source": [
        "# **결과 및 결언**"
      ]
    },
    {
      "cell_type": "markdown",
      "source": [
        "처음 우리 조는 코로나로 인해 침체한 영화 산업을 회복하기 위해 어떤 노력을 해야 할지에 대한 고민을 중심으로 현재 국내와 국외 영화를 전부 합쳐 사람들의 관심을 많이 받은 영화 top 5개를 분석하기로 했다. 5개의 영화를 확인해 본 결과 5개 중 4개는 한국영화 나머지 1개는 외국영화임을 알 수 있었다. top 100까지 살펴본 결과 한국의 경우는 약 7대 3정도로 상대적으로 한국영화의 점유율이 높은 것을 알 수 있었고 이에 우리나라 영화산업을 다시 부흥시키기 위해서는 사람들에게 인기가 있는 영화장르를 분석할 필요를 느껴 이번 파트의 분석을 진행했다. 진행 결과 사람들은 느와르와 액션 위주의 영화를 선호하며 그 안에서 코미디와 드라마의 요소가 있는 것을 좋아한다는 것을 알 수 있었다. 감독들이 많이 만드는 영화는 드라마 장르인 것을 알 수 있었는데 사람들이 가장 많이 보는 장르가 드라마가 아니지만 10000만 관객이 돌파한 영화의 장르가 드라마가 우세한 것을 본다면, '잘'만든 드라마 장르의 영화가 한국사람들에게 많은 호응을 얻고 있는 것으로 볼 수 있었다. 따라서 한국 영화 산업을 흥행하게 하려면, 드라마 장르의 특징을 따라가되 그 안에 코미디와 액션의 요소를 첨가하면 좋을 것 같다는 생각을 했다. 혹은 반대로 사람들이 많이 보는 영화의 장르인 느와르, 액션 등에 드라마 장르의 감동적인 요소를 넣어도 좋을 것 같다. "
      ],
      "metadata": {
        "id": "PxSb_oFAGM7r"
      }
    }
  ],
  "metadata": {
    "colab": {
      "name": "2010~20년대 인기있는 영화 장르 분석ipynb.ipynb",
      "provenance": []
    },
    "kernelspec": {
      "display_name": "Python 3",
      "name": "python3"
    },
    "language_info": {
      "name": "python"
    }
  },
  "nbformat": 4,
  "nbformat_minor": 0
}