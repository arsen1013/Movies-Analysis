{
  "cells": [
    {
      "cell_type": "markdown",
      "metadata": {
        "id": "02frRPfImRmj"
      },
      "source": [
        "#명량 | 극한직업 | 신과함께 | 국제시장 | 어벤져스 영화 장르 및 리뷰 데이터 수집\n",
        "코드 참조 : 다음 영화 리뷰 크롤링 코드, 최민주 "
      ]
    },
    {
      "cell_type": "code",
      "execution_count": null,
      "metadata": {
        "id": "XCvlJeiUmlGi",
        "colab": {
          "base_uri": "https://localhost:8080/"
        },
        "outputId": "3c6fb0d8-d0a9-41d6-f43c-48df6230563d"
      },
      "outputs": [
        {
          "output_type": "stream",
          "name": "stdout",
          "text": [
            "Collecting selenium\n",
            "  Downloading selenium-4.1.0-py3-none-any.whl (958 kB)\n",
            "\u001b[K     |████████████████████████████████| 958 kB 7.6 MB/s \n",
            "\u001b[?25hCollecting trio~=0.17\n",
            "  Downloading trio-0.19.0-py3-none-any.whl (356 kB)\n",
            "\u001b[K     |████████████████████████████████| 356 kB 69.4 MB/s \n",
            "\u001b[?25hCollecting urllib3[secure]~=1.26\n",
            "  Downloading urllib3-1.26.7-py2.py3-none-any.whl (138 kB)\n",
            "\u001b[K     |████████████████████████████████| 138 kB 54.3 MB/s \n",
            "\u001b[?25hCollecting trio-websocket~=0.9\n",
            "  Downloading trio_websocket-0.9.2-py3-none-any.whl (16 kB)\n",
            "Collecting async-generator>=1.9\n",
            "  Downloading async_generator-1.10-py3-none-any.whl (18 kB)\n",
            "Requirement already satisfied: attrs>=19.2.0 in /usr/local/lib/python3.7/dist-packages (from trio~=0.17->selenium) (21.2.0)\n",
            "Collecting outcome\n",
            "  Downloading outcome-1.1.0-py2.py3-none-any.whl (9.7 kB)\n",
            "Collecting sniffio\n",
            "  Downloading sniffio-1.2.0-py3-none-any.whl (10 kB)\n",
            "Requirement already satisfied: sortedcontainers in /usr/local/lib/python3.7/dist-packages (from trio~=0.17->selenium) (2.4.0)\n",
            "Requirement already satisfied: idna in /usr/local/lib/python3.7/dist-packages (from trio~=0.17->selenium) (2.10)\n",
            "Collecting wsproto>=0.14\n",
            "  Downloading wsproto-1.0.0-py3-none-any.whl (24 kB)\n",
            "Collecting cryptography>=1.3.4\n",
            "  Downloading cryptography-36.0.1-cp36-abi3-manylinux_2_24_x86_64.whl (3.6 MB)\n",
            "\u001b[K     |████████████████████████████████| 3.6 MB 46.9 MB/s \n",
            "\u001b[?25hRequirement already satisfied: certifi in /usr/local/lib/python3.7/dist-packages (from urllib3[secure]~=1.26->selenium) (2021.10.8)\n",
            "Collecting pyOpenSSL>=0.14\n",
            "  Downloading pyOpenSSL-21.0.0-py2.py3-none-any.whl (55 kB)\n",
            "\u001b[K     |████████████████████████████████| 55 kB 3.0 MB/s \n",
            "\u001b[?25hRequirement already satisfied: cffi>=1.12 in /usr/local/lib/python3.7/dist-packages (from cryptography>=1.3.4->urllib3[secure]~=1.26->selenium) (1.15.0)\n",
            "Requirement already satisfied: pycparser in /usr/local/lib/python3.7/dist-packages (from cffi>=1.12->cryptography>=1.3.4->urllib3[secure]~=1.26->selenium) (2.21)\n",
            "Requirement already satisfied: six>=1.5.2 in /usr/local/lib/python3.7/dist-packages (from pyOpenSSL>=0.14->urllib3[secure]~=1.26->selenium) (1.15.0)\n",
            "Collecting h11<1,>=0.9.0\n",
            "  Downloading h11-0.12.0-py3-none-any.whl (54 kB)\n",
            "\u001b[K     |████████████████████████████████| 54 kB 3.4 MB/s \n",
            "\u001b[?25hInstalling collected packages: sniffio, outcome, h11, cryptography, async-generator, wsproto, urllib3, trio, pyOpenSSL, trio-websocket, selenium\n",
            "  Attempting uninstall: urllib3\n",
            "    Found existing installation: urllib3 1.24.3\n",
            "    Uninstalling urllib3-1.24.3:\n",
            "      Successfully uninstalled urllib3-1.24.3\n",
            "\u001b[31mERROR: pip's dependency resolver does not currently take into account all the packages that are installed. This behaviour is the source of the following dependency conflicts.\n",
            "requests 2.23.0 requires urllib3!=1.25.0,!=1.25.1,<1.26,>=1.21.1, but you have urllib3 1.26.7 which is incompatible.\n",
            "datascience 0.10.6 requires folium==0.2.1, but you have folium 0.8.3 which is incompatible.\u001b[0m\n",
            "Successfully installed async-generator-1.10 cryptography-36.0.1 h11-0.12.0 outcome-1.1.0 pyOpenSSL-21.0.0 selenium-4.1.0 sniffio-1.2.0 trio-0.19.0 trio-websocket-0.9.2 urllib3-1.26.7 wsproto-1.0.0\n",
            "Ign:1 https://developer.download.nvidia.com/compute/cuda/repos/ubuntu1804/x86_64  InRelease\n",
            "Get:2 https://cloud.r-project.org/bin/linux/ubuntu bionic-cran40/ InRelease [3,626 B]\n",
            "Ign:3 https://developer.download.nvidia.com/compute/machine-learning/repos/ubuntu1804/x86_64  InRelease\n",
            "Hit:4 https://developer.download.nvidia.com/compute/cuda/repos/ubuntu1804/x86_64  Release\n",
            "Hit:5 https://developer.download.nvidia.com/compute/machine-learning/repos/ubuntu1804/x86_64  Release\n",
            "Get:6 http://ppa.launchpad.net/c2d4u.team/c2d4u4.0+/ubuntu bionic InRelease [15.9 kB]\n",
            "Get:7 https://cloud.r-project.org/bin/linux/ubuntu bionic-cran40/ Packages [73.9 kB]\n",
            "Hit:8 http://archive.ubuntu.com/ubuntu bionic InRelease\n",
            "Get:9 http://security.ubuntu.com/ubuntu bionic-security InRelease [88.7 kB]\n",
            "Get:11 http://archive.ubuntu.com/ubuntu bionic-updates InRelease [88.7 kB]\n",
            "Hit:12 http://ppa.launchpad.net/cran/libgit2/ubuntu bionic InRelease\n",
            "Get:14 http://ppa.launchpad.net/deadsnakes/ppa/ubuntu bionic InRelease [15.9 kB]\n",
            "Get:15 http://archive.ubuntu.com/ubuntu bionic-backports InRelease [74.6 kB]\n",
            "Hit:16 http://ppa.launchpad.net/graphics-drivers/ppa/ubuntu bionic InRelease\n",
            "Get:17 http://security.ubuntu.com/ubuntu bionic-security/universe amd64 Packages [1,452 kB]\n",
            "Get:18 http://ppa.launchpad.net/c2d4u.team/c2d4u4.0+/ubuntu bionic/main Sources [1,820 kB]\n",
            "Get:19 http://security.ubuntu.com/ubuntu bionic-security/main amd64 Packages [2,461 kB]\n",
            "Get:20 http://archive.ubuntu.com/ubuntu bionic-updates/main amd64 Packages [2,898 kB]\n",
            "Get:21 http://security.ubuntu.com/ubuntu bionic-security/restricted amd64 Packages [691 kB]\n",
            "Get:22 http://archive.ubuntu.com/ubuntu bionic-updates/universe amd64 Packages [2,230 kB]\n",
            "Get:23 http://archive.ubuntu.com/ubuntu bionic-backports/main amd64 Packages [11.6 kB]\n",
            "Get:24 http://archive.ubuntu.com/ubuntu bionic-backports/universe amd64 Packages [12.6 kB]\n",
            "Get:25 http://ppa.launchpad.net/c2d4u.team/c2d4u4.0+/ubuntu bionic/main amd64 Packages [933 kB]\n",
            "Get:26 http://ppa.launchpad.net/deadsnakes/ppa/ubuntu bionic/main amd64 Packages [45.9 kB]\n",
            "Fetched 12.9 MB in 4s (3,039 kB/s)\n",
            "Reading package lists... Done\n",
            "Reading package lists... Done\n",
            "Building dependency tree       \n",
            "Reading state information... Done\n",
            "The following additional packages will be installed:\n",
            "  chromium-browser chromium-browser-l10n chromium-codecs-ffmpeg-extra\n",
            "Suggested packages:\n",
            "  webaccounts-chromium-extension unity-chromium-extension\n",
            "The following NEW packages will be installed:\n",
            "  chromium-browser chromium-browser-l10n chromium-chromedriver\n",
            "  chromium-codecs-ffmpeg-extra\n",
            "0 upgraded, 4 newly installed, 0 to remove and 76 not upgraded.\n",
            "Need to get 94.0 MB of archives.\n",
            "After this operation, 324 MB of additional disk space will be used.\n",
            "Get:1 http://archive.ubuntu.com/ubuntu bionic-updates/universe amd64 chromium-codecs-ffmpeg-extra amd64 95.0.4638.69-0ubuntu0.18.04.1 [1,135 kB]\n",
            "Get:2 http://archive.ubuntu.com/ubuntu bionic-updates/universe amd64 chromium-browser amd64 95.0.4638.69-0ubuntu0.18.04.1 [83.6 MB]\n",
            "Get:3 http://archive.ubuntu.com/ubuntu bionic-updates/universe amd64 chromium-browser-l10n all 95.0.4638.69-0ubuntu0.18.04.1 [4,249 kB]\n",
            "Get:4 http://archive.ubuntu.com/ubuntu bionic-updates/universe amd64 chromium-chromedriver amd64 95.0.4638.69-0ubuntu0.18.04.1 [4,986 kB]\n",
            "Fetched 94.0 MB in 6s (15.0 MB/s)\n",
            "Selecting previously unselected package chromium-codecs-ffmpeg-extra.\n",
            "(Reading database ... 155222 files and directories currently installed.)\n",
            "Preparing to unpack .../chromium-codecs-ffmpeg-extra_95.0.4638.69-0ubuntu0.18.04.1_amd64.deb ...\n",
            "Unpacking chromium-codecs-ffmpeg-extra (95.0.4638.69-0ubuntu0.18.04.1) ...\n",
            "Selecting previously unselected package chromium-browser.\n",
            "Preparing to unpack .../chromium-browser_95.0.4638.69-0ubuntu0.18.04.1_amd64.deb ...\n",
            "Unpacking chromium-browser (95.0.4638.69-0ubuntu0.18.04.1) ...\n",
            "Selecting previously unselected package chromium-browser-l10n.\n",
            "Preparing to unpack .../chromium-browser-l10n_95.0.4638.69-0ubuntu0.18.04.1_all.deb ...\n",
            "Unpacking chromium-browser-l10n (95.0.4638.69-0ubuntu0.18.04.1) ...\n",
            "Selecting previously unselected package chromium-chromedriver.\n",
            "Preparing to unpack .../chromium-chromedriver_95.0.4638.69-0ubuntu0.18.04.1_amd64.deb ...\n",
            "Unpacking chromium-chromedriver (95.0.4638.69-0ubuntu0.18.04.1) ...\n",
            "Setting up chromium-codecs-ffmpeg-extra (95.0.4638.69-0ubuntu0.18.04.1) ...\n",
            "Setting up chromium-browser (95.0.4638.69-0ubuntu0.18.04.1) ...\n",
            "update-alternatives: using /usr/bin/chromium-browser to provide /usr/bin/x-www-browser (x-www-browser) in auto mode\n",
            "update-alternatives: using /usr/bin/chromium-browser to provide /usr/bin/gnome-www-browser (gnome-www-browser) in auto mode\n",
            "Setting up chromium-chromedriver (95.0.4638.69-0ubuntu0.18.04.1) ...\n",
            "Setting up chromium-browser-l10n (95.0.4638.69-0ubuntu0.18.04.1) ...\n",
            "Processing triggers for man-db (2.8.3-2ubuntu0.1) ...\n",
            "Processing triggers for hicolor-icon-theme (0.17-2) ...\n",
            "Processing triggers for mime-support (3.60ubuntu1) ...\n",
            "Processing triggers for libc-bin (2.27-3ubuntu1.3) ...\n",
            "/sbin/ldconfig.real: /usr/local/lib/python3.7/dist-packages/ideep4py/lib/libmkldnn.so.0 is not a symbolic link\n",
            "\n",
            "cp: '/usr/lib/chromium-browser/chromedriver' and '/usr/bin/chromedriver' are the same file\n",
            "Requirement already satisfied: requests in /usr/local/lib/python3.7/dist-packages (2.23.0)\n",
            "Collecting urllib3!=1.25.0,!=1.25.1,<1.26,>=1.21.1\n",
            "  Downloading urllib3-1.25.11-py2.py3-none-any.whl (127 kB)\n",
            "\u001b[K     |████████████████████████████████| 127 kB 7.3 MB/s \n",
            "\u001b[?25hRequirement already satisfied: certifi>=2017.4.17 in /usr/local/lib/python3.7/dist-packages (from requests) (2021.10.8)\n",
            "Requirement already satisfied: idna<3,>=2.5 in /usr/local/lib/python3.7/dist-packages (from requests) (2.10)\n",
            "Requirement already satisfied: chardet<4,>=3.0.2 in /usr/local/lib/python3.7/dist-packages (from requests) (3.0.4)\n",
            "Installing collected packages: urllib3\n",
            "  Attempting uninstall: urllib3\n",
            "    Found existing installation: urllib3 1.26.7\n",
            "    Uninstalling urllib3-1.26.7:\n",
            "      Successfully uninstalled urllib3-1.26.7\n",
            "\u001b[31mERROR: pip's dependency resolver does not currently take into account all the packages that are installed. This behaviour is the source of the following dependency conflicts.\n",
            "selenium 4.1.0 requires urllib3[secure]~=1.26, but you have urllib3 1.25.11 which is incompatible.\n",
            "datascience 0.10.6 requires folium==0.2.1, but you have folium 0.8.3 which is incompatible.\u001b[0m\n",
            "Successfully installed urllib3-1.25.11\n",
            "Requirement already satisfied: beautifulsoup4 in /usr/local/lib/python3.7/dist-packages (4.6.3)\n"
          ]
        }
      ],
      "source": [
        "!pip install selenium\n",
        "!apt-get update\n",
        "!apt install chromium-chromedriver\n",
        "!cp /usr/lib/chromium-browser/chromedriver /usr/bin\n",
        "!pip install requests\n",
        "!pip install beautifulsoup4 "
      ]
    },
    {
      "cell_type": "code",
      "execution_count": null,
      "metadata": {
        "id": "qSHoprAbmmyX"
      },
      "outputs": [],
      "source": [
        "import time\n",
        "from selenium import webdriver\n",
        "from selenium.common.exceptions import TimeoutException\n",
        "from selenium.webdriver.support.ui import WebDriverWait   \n",
        "from selenium.webdriver.support import expected_conditions as EC\n",
        "from selenium.webdriver.common.by import By #find_element()에 필요\n",
        "from selenium.common.exceptions import NoSuchElementException\n",
        "\n",
        "\n",
        "from bs4 import BeautifulSoup #웹페이지 수집용도 \n",
        "import pandas as pd\n",
        "import numpy as np"
      ]
    },
    {
      "cell_type": "code",
      "execution_count": null,
      "metadata": {
        "id": "T3kt110zmo5p"
      },
      "outputs": [],
      "source": [
        "options = webdriver.ChromeOptions()\n",
        "options.add_argument('--headless')        # Head-less 설정\n",
        "options.add_argument('--no-sandbox')\n",
        "options.add_argument('--disable-dev-shm-usage')\n",
        "driver = webdriver.Chrome('chromedriver', options=options)"
      ]
    },
    {
      "cell_type": "markdown",
      "metadata": {
        "id": "bVll7hsqnQy7"
      },
      "source": [
        "#영화 <명량> 리뷰 데이터 수집"
      ]
    },
    {
      "cell_type": "code",
      "execution_count": null,
      "metadata": {
        "colab": {
          "base_uri": "https://localhost:8080/",
          "height": 72
        },
        "id": "3NLZ9j7A5iaK",
        "outputId": "ffdbe8ed-2623-42f4-a752-42d4b6f1298f"
      },
      "outputs": [
        {
          "output_type": "stream",
          "name": "stderr",
          "text": [
            "/usr/local/lib/python3.7/dist-packages/ipykernel_launcher.py:25: DeprecationWarning: find_element_by_* commands are deprecated. Please use find_element() instead\n"
          ]
        },
        {
          "output_type": "execute_result",
          "data": {
            "application/vnd.google.colaboratory.intrinsic+json": {
              "type": "string"
            },
            "text/plain": [
              "'오ㅡㅡㅡㅡ재밋네. 역시 우리나라국민들국난극복취미의 피는 저때부터 쭉 흘러온거구만. 이순신멋지다. 설민석이순신편 보러가야겟다. 영화끝나면.\\n\\n근데 나 이순신보는데, 노무현대통령이랑 문재인대통령 떠오르지? 국민만보고 가는 리더들.\\n울들목물음에, 특히 \"천행이엇다. 그순간 백성들이 나를 도와주지 않앗더냐\"하는부분에서는 완전'"
            ]
          },
          "metadata": {},
          "execution_count": 17
        }
      ],
      "source": [
        "#코드 출처:최민주 \n",
        "\n",
        "\n",
        "\n",
        "movie_id = '68593'\n",
        "URL = 'https://movie.daum.net/moviedb/grade?movieId=' + movie_id\n",
        "\n",
        "driver.get(URL)\n",
        "\n",
        "# html = driver.page_source\n",
        "# soup = BeautifulSoup(html,\"html.parser\")\n",
        "\n",
        "\n",
        "#파싱을 다 하기 전에 코드가 넘어가버리는 경우를 막기위해 WebDriverWait 사용 \n",
        "try:  \n",
        "    #  element가 로딩될 때 까지 10초 대기 \n",
        "    review = WebDriverWait(driver, 10).until(\n",
        "        EC.presence_of_element_located((By.CLASS_NAME, 'desc_txt'))\n",
        "    )    \n",
        "\n",
        "except TimeoutException:    \n",
        "    ## 엘리먼트 로딩 실패 시에는 에러메시지 출력 \n",
        "    print('해당 페이지에 리뷰 정보가 존재하지 않습니다.')\n",
        "\n",
        "review = driver.find_element_by_class_name('desc_txt')\n",
        "\n",
        "review.text"
      ]
    },
    {
      "cell_type": "code",
      "execution_count": null,
      "metadata": {
        "colab": {
          "base_uri": "https://localhost:8080/"
        },
        "id": "-RrT_GL-mqm3",
        "outputId": "9b88ac6f-c4e3-4f83-b53f-4aa5ff59b1f3"
      },
      "outputs": [
        {
          "output_type": "stream",
          "name": "stderr",
          "text": [
            "/usr/local/lib/python3.7/dist-packages/ipykernel_launcher.py:3: DeprecationWarning: find_elements_by_* commands are deprecated. Please use find_elements() instead\n",
            "  This is separate from the ipykernel package so we can avoid doing imports until\n",
            "/usr/local/lib/python3.7/dist-packages/ipykernel_launcher.py:4: DeprecationWarning: find_elements_by_* commands are deprecated. Please use find_elements() instead\n",
            "  after removing the cwd from sys.path.\n"
          ]
        },
        {
          "output_type": "stream",
          "name": "stdout",
          "text": [
            ">> 오ㅡㅡㅡㅡ재밋네. 역시 우리나라국민들국난극복취미의 피는 저때부터 쭉 흘러온거구만. 이순신멋지다. 설민석이순신편 보러가야겟다. 영화끝나면.  근데 나 이순신보는데, 노무현대통령이랑 문재인대통령 떠오르지? 국민만보고 가는 리더들. 울들목물음에, 특히 \"천행이엇다. 그순간 백성들이 나를 도와주지 않앗더냐\"하는부분에서는 완전\n",
            ">> 최민식을 다시 보게 된 영화입니다. 개인의 욕심이 , 나약함이, 두려움이 나라를 힘들게 하네요 . 나라를 지킨 이땅의 모든 용기있는 선조들께 감사할뿐입니다.\n",
            ">> 다시봐도 감동입니다 왜놈한텐 한발자국도 내줄수 없죠\n",
            ">> 정말 우리나라 사람들이 대단한것 같아요ㅠㅠㅠ이순신 짱!\n",
            ">> 이런 영화를 재미로 보는 역사의식 없는 놈들이 아직도 존재한다니 한탄을 금치 못하겠다. 과거를 잊은 민족은 미래가 없다는 것을 다시 한번 마음속에 각인 시켰으면 한다.\n",
            ">> 몰입도 완전캡  정말  영화 잘 만들었습니다\n",
            ">> 지금까지 우리나라 이순신 드라마나 영화중에  이렇게 실제 상황을 재연한 경우는 없었어요 대부분이 막연한 상상으로 만든 영화들이죠  장군혼자 싸운것은 팩트고 나머지 장수들이 겁을 먹어서 뒤에 있었던것도 팩트고  사호집에 보면 백성 3만명의 피난민들이 이순신한테 몰렸는데  칠천량에서 대패하고 수군의 12척 밖에 없는걸 알고 모두 흩어질려는걸  오창익이라는 분이 설득해서 도망갈때도 없고  임금과의 의리를 지키자고 설득을 합니다  그래서 후방에 천척이 넘는 배가 위장하는 거고 언덕위에 수많은 사람들이  전쟁을 지켜봅니다   이런것도 재연을 잘했고  전쟁끝나고 마와 오이 먹는 장면도 재연을 아주 잘했습니다  배에 솜이불을 걸어뒀다는 기록이 있는데 그것 빠졌어요  저는 아주 재미 있게 봤습니다 \n",
            ">> 어떤 일본 애들은 이순신을 신으로 모신다지 이게 시나리오로만 나왔다면 나도 비판했겠는데... 실화잖아 물론 각색도 있었겠지만 현실이 연출보다 더한 경우를 종종 봐와서 말이지. 내부자들 보고 과장이 좀 있네 생각했는데 김학의 건 보고는 영화가 얌전했네 생각 들었음\n",
            ">> 영화 명량은 참으로 감동적이었지요. 난 영화관에서 보았는데... 가장 인상 깊었던 대사가 '나중에 자손들이 우리 이러고 고생한 거 알까?'와 '장군님 저희들이 (배를) 끌겠습니다요.'였지요.\n",
            ">> 영화관에서 볼때는 해전만 눈에띄는 스케일만 큰 영화라고생각했었는데 다시보니 볼때마다 다르게보이네요 멋지고 지금보니 현재활동 활발하게 하는 연예인들 보여서 신기하네요 굿굿입니다\n",
            "9점, 9점, 10점, 10점, 10점, 10점, 10점, 8점, 10점, 10점, "
          ]
        }
      ],
      "source": [
        "#한페이지 전체 가져오기 \n",
        "\n",
        "reviews = driver.find_elements_by_class_name('desc_txt')\n",
        "scores = driver.find_elements_by_class_name('ratings')\n",
        "\n",
        "for review in reviews:\n",
        "  print('>>', review.text.replace('\\n', ' '))\n",
        "\n",
        "for score in scores:\n",
        "  print(score.text, end='점, ')\n"
      ]
    },
    {
      "cell_type": "code",
      "execution_count": null,
      "metadata": {
        "id": "qx2wr054kzlI"
      },
      "outputs": [],
      "source": [
        "#리뷰의 수와 별점의 수가 동일한지 확인하기\n",
        "\n",
        "print('\\n영화 리뷰 수 : ', len(reviews), '\\n영화 별점 수 : ', len(scores))"
      ]
    },
    {
      "cell_type": "code",
      "execution_count": null,
      "metadata": {
        "colab": {
          "base_uri": "https://localhost:8080/"
        },
        "id": "UPRNGSi8k06Y",
        "outputId": "cb873bd4-9018-49a7-a7ae-0ff4ef0be303"
      },
      "outputs": [
        {
          "output_type": "stream",
          "name": "stderr",
          "text": [
            "/usr/local/lib/python3.7/dist-packages/ipykernel_launcher.py:2: DeprecationWarning: find_elements_by_* commands are deprecated. Please use find_elements() instead\n",
            "  \n",
            "/usr/local/lib/python3.7/dist-packages/selenium/webdriver/remote/webelement.py:446: UserWarning: find_element_by_* commands are deprecated. Please use find_element() instead\n",
            "  warnings.warn(\"find_element_by_* commands are deprecated. Please use find_element() instead\")\n"
          ]
        },
        {
          "output_type": "stream",
          "name": "stdout",
          "text": [
            "9점, 리뷰: 오ㅡㅡㅡㅡ재밋네. 역시 우리나라국민들국난극복취미의 피는 저때부터 쭉 흘러온거구만. 이순신멋지다. 설민석이순신편 보러가야겟다. 영화끝나면.  근데 나 이순신보는데, 노무현대통령이랑 문재인대통령 떠오르지? 국민만보고 가는 리더들. 울들목물음에, 특히 \"천행이엇다. 그순간 백성들이 나를 도와주지 않앗더냐\"하는부분에서는 완전\n",
            "9점, 리뷰: 최민식을 다시 보게 된 영화입니다. 개인의 욕심이 , 나약함이, 두려움이 나라를 힘들게 하네요 . 나라를 지킨 이땅의 모든 용기있는 선조들께 감사할뿐입니다.\n",
            "10점, 리뷰: 다시봐도 감동입니다 왜놈한텐 한발자국도 내줄수 없죠\n",
            "10점, 리뷰: 정말 우리나라 사람들이 대단한것 같아요ㅠㅠㅠ이순신 짱!\n",
            "10점, 리뷰: 이런 영화를 재미로 보는 역사의식 없는 놈들이 아직도 존재한다니 한탄을 금치 못하겠다. 과거를 잊은 민족은 미래가 없다는 것을 다시 한번 마음속에 각인 시켰으면 한다.\n",
            "10점, 리뷰: 몰입도 완전캡  정말  영화 잘 만들었습니다\n",
            "10점, 리뷰: 지금까지 우리나라 이순신 드라마나 영화중에  이렇게 실제 상황을 재연한 경우는 없었어요 대부분이 막연한 상상으로 만든 영화들이죠  장군혼자 싸운것은 팩트고 나머지 장수들이 겁을 먹어서 뒤에 있었던것도 팩트고  사호집에 보면 백성 3만명의 피난민들이 이순신한테 몰렸는데  칠천량에서 대패하고 수군의 12척 밖에 없는걸 알고 모두 흩어질려는걸  오창익이라는 분이 설득해서 도망갈때도 없고  임금과의 의리를 지키자고 설득을 합니다  그래서 후방에 천척이 넘는 배가 위장하는 거고 언덕위에 수많은 사람들이  전쟁을 지켜봅니다   이런것도 재연을 잘했고  전쟁끝나고 마와 오이 먹는 장면도 재연을 아주 잘했습니다  배에 솜이불을 걸어뒀다는 기록이 있는데 그것 빠졌어요  저는 아주 재미 있게 봤습니다 \n",
            "8점, 리뷰: 어떤 일본 애들은 이순신을 신으로 모신다지 이게 시나리오로만 나왔다면 나도 비판했겠는데... 실화잖아 물론 각색도 있었겠지만 현실이 연출보다 더한 경우를 종종 봐와서 말이지. 내부자들 보고 과장이 좀 있네 생각했는데 김학의 건 보고는 영화가 얌전했네 생각 들었음\n",
            "10점, 리뷰: 영화 명량은 참으로 감동적이었지요. 난 영화관에서 보았는데... 가장 인상 깊었던 대사가 '나중에 자손들이 우리 이러고 고생한 거 알까?'와 '장군님 저희들이 (배를) 끌겠습니다요.'였지요.\n",
            "10점, 리뷰: 영화관에서 볼때는 해전만 눈에띄는 스케일만 큰 영화라고생각했었는데 다시보니 볼때마다 다르게보이네요 멋지고 지금보니 현재활동 활발하게 하는 연예인들 보여서 신기하네요 굿굿입니다\n"
          ]
        }
      ],
      "source": [
        "# 리뷰 관련 모든 정보를 가져온다.\n",
        "review_elems = driver.find_elements_by_class_name('cmt_info')\n",
        "\n",
        "ratings = []    # 네티즌 평가 점수\n",
        "comments = []   # 네티즌 리뷰 코멘트\n",
        "\n",
        "\n",
        "try:    \n",
        "    review = WebDriverWait(driver, 20).until(\n",
        "        EC.presence_of_element_located((By.CLASS_NAME, 'desc_txt'))\n",
        "    )   \n",
        "\n",
        "except TimeoutException:  \n",
        "    print('해당 페이지에 리뷰 정보가 존재하지 않습니다.')\n",
        "\n",
        "# 영화 리뷰 관련 모든 정보를 가져와서 리스트에 담는다.\n",
        "for review_elem in review_elems:\n",
        "  \n",
        "  ratings.append(review_elem.find_element_by_class_name('ratings').text)\n",
        "  try:\n",
        "    comments.append(review_elem.find_element_by_class_name('desc_txt').text.replace('\\n', ' '))\n",
        "  except NoSuchElementException:\n",
        "    comments.append('')\n",
        "\n",
        "for i, score in enumerate(ratings):\n",
        "  print(f'{score}점, 리뷰: {comments[i]}')"
      ]
    },
    {
      "cell_type": "code",
      "execution_count": null,
      "metadata": {
        "colab": {
          "base_uri": "https://localhost:8080/"
        },
        "id": "8d_tbQ6Nk9sD",
        "outputId": "c85caa29-75ee-4fbd-c97a-e3ef36964609"
      },
      "outputs": [
        {
          "output_type": "stream",
          "name": "stdout",
          "text": [
            "Unfolding movie review pages:\n",
            "Counting pages...\n",
            "1|2|3|4|5|6|7|8|9|10|11|12|13|14|15|16|17|18|19|20\n",
            "21|22|23|24|25|26|27|28|29|30|31|32|33|34|35|36|37|38|39|40\n",
            "41|42|43|44|45|46|47|48|49|50|51|52|53|54|55|56|57|58|59|60\n",
            "61|62|63|64|65|66|67|68|69|70|71|72|73|74|75|76|77|78|79|80\n",
            "81|82|83|84|85|86|87|88|89|90|91|92|93|94|95|96|97|98|99|100\n",
            "101|102|103|104|105|106|107|108|109|110|111|112|113|114|115|116|117|118|119|120\n",
            "121|122|123|124|125|126|127|128|129|130|131|132|133|134|135|136|137|138|139|140\n",
            "141|142|143|144|145|146|147|148|149|150|151|152|153|154|155|156|157|158|159|160\n",
            "161|162|163|164|165|166|167|168|169|170|171|172|173|174|175|176|177|178|179|180\n",
            "181|182|183|184|185|186|187|188|189|190|191|192|193|194|195|196|197|198|199|200\n",
            "201|202|203|204|205|206|207|208|209|210|211|212|213|214|215|216|217|218|219|220\n",
            "221|222|223|224|225|226|227|228|229|230|231|232|233|234|235|236|237|238|239|240\n",
            "241|242|243|244|245|246|247|248|249|250|251|252|253|254|255|256|257|258|259|260\n",
            "261|262|263|264|265|266|267|268|269|270|271|272|273|274|275|276|277|278|279|280\n",
            "281|282|283|284|285|286|287|288|289|290|291|292|293|294|295|296|297|298|299|300\n",
            "301|302|303|304|305|306|307|308|309|310|311|312|313|314|315|316|317|318|319|320\n",
            "321|322|323|324|325|326|327|328|329|330|331|332|333|334|335|336|337|338|339|340\n",
            "341|342|343|344|345|346|347|348|349|350|351|352|353|354|355|356|357|358|359|360\n",
            "361|362|363|364|365|366|367|Done!\n"
          ]
        }
      ],
      "source": [
        "#* 평점 더보기 버튼을 자동으로 눌러 모든 리뷰&별점 가져오기  페이지 클릭\n",
        "#다음은 더보기 버튼을 눌러 자바스크립트를 활설화 시켜야 다음 댓글을 볼 수 있다. (페이지 개념이 아니라 스크롤 개념의 웹사이트)\n",
        "\n",
        "print('Unfolding movie review pages:')\n",
        "click = 0  \n",
        "print('Counting pages...')\n",
        "\n",
        "XPATH = '''//*[@id=\"alex-area\"]/div/div/div/div[3]/div[1]/button'''\n",
        "while True:\n",
        "  try: \n",
        "    WebDriverWait(driver, 10).until(EC.presence_of_element_located(\n",
        "      (By.XPATH, XPATH))).click()\n",
        "      \n",
        "    click += 1\n",
        "    print(click) if click % 20 == 0 else print(click, end='|')\n",
        "  except TimeoutException: \n",
        "    print('Done!')\n",
        "    break"
      ]
    },
    {
      "cell_type": "code",
      "execution_count": null,
      "metadata": {
        "colab": {
          "base_uri": "https://localhost:8080/"
        },
        "id": "3bx9bM5nlMEE",
        "outputId": "6061e176-badd-4d0f-eabc-c12d6b60c4a6"
      },
      "outputs": [
        {
          "output_type": "stream",
          "name": "stdout",
          "text": [
            "Extracting movie reviews...\n"
          ]
        },
        {
          "output_type": "stream",
          "name": "stderr",
          "text": [
            "/usr/local/lib/python3.7/dist-packages/ipykernel_launcher.py:7: DeprecationWarning: find_elements_by_* commands are deprecated. Please use find_elements() instead\n",
            "  import sys\n"
          ]
        },
        {
          "output_type": "stream",
          "name": "stdout",
          "text": [
            "\n",
            "--- Job completed! 총 10,991개의 리뷰 데이터를 수집했습니다. ----------- \n",
            "\n"
          ]
        }
      ],
      "source": [
        "#리뷰수집\n",
        "\n",
        "ratings = []    # 네티즌 평가 점수\n",
        "comments = []   # 네티즌 리뷰 코멘트\n",
        "\n",
        "print('Extracting movie reviews...')\n",
        "review_elems = driver.find_elements_by_class_name('cmt_info')\n",
        "\n",
        "# 영화 리뷰 관련 모든 정보를 가져와서 리스트에 담는코드 \n",
        "for review_elem in review_elems:\n",
        "\n",
        "  ratings.append(review_elem.find_element(By.CLASS_NAME, 'ratings').text)\n",
        "  try:\n",
        "    comments.append(review_elem.find_element(By.CLASS_NAME, \n",
        "                        'desc_txt').text.replace('\\n', ' '))\n",
        "  except:\n",
        "    comments.append('')\n",
        "else:\n",
        "  print('\\n--- Job completed!', \n",
        "        f'총 {len(review_elems):,}개의 리뷰 데이터를 수집했습니다.', \n",
        "        '-' * 11, '\\n') "
      ]
    },
    {
      "cell_type": "code",
      "execution_count": null,
      "metadata": {
        "colab": {
          "base_uri": "https://localhost:8080/",
          "height": 310
        },
        "id": "vjZXmrbmqbQi",
        "outputId": "85185ef6-0412-4b4a-d723-fdf7a5291ab6"
      },
      "outputs": [
        {
          "output_type": "stream",
          "name": "stdout",
          "text": [
            "총 리뷰 개수.......: 10,991개\n",
            "총 리뷰 평점 개수...: 10,991개\n",
            "9 - 오ㅡㅡㅡㅡ재밋네. 역시 우리나라국민들국난극복취미의 피는 저때부터 쭉 흘러온거구만. 이순신멋지다. 설민석이순신편 보러가야겟다. 영화끝나면.  근데 나 이순신보는데, 노무현대통령이랑 문재인대통령 떠오르지? 국민만보고 가는 리더들. 울들목물음에, 특히 \"천행이엇다. 그순간 백성들이 나를 도와주지 않앗더냐\"하는부분에서는 완전\n",
            "9 - 최민식을 다시 보게 된 영화입니다. 개인의 욕심이 , 나약함이, 두려움이 나라를 힘들게 하네요 . 나라를 지킨 이땅의 모든 용기있는 선조들께 감사할뿐입니다.\n",
            "10 - 다시봐도 감동입니다 왜놈한텐 한발자국도 내줄수 없죠\n",
            "10 - 정말 우리나라 사람들이 대단한것 같아요ㅠㅠㅠ이순신 짱!\n",
            "10 - 이런 영화를 재미로 보는 역사의식 없는 놈들이 아직도 존재한다니 한탄을 금치 못하겠다. 과거를 잊은 민족은 미래가 없다는 것을 다시 한번 마음속에 각인 시켰으면 한다.\n",
            "10 - 몰입도 완전캡  정말  영화 잘 만들었습니다\n",
            "10 - 지금까지 우리나라 이순신 드라마나 영화중에  이렇게 실제 상황을 재연한 경우는 없었어요 대부분이 막연한 상상으로 만든 영화들이죠  장군혼자 싸운것은 팩트고 나머지 장수들이 겁을 먹어서 뒤에 있었던것도 팩트고  사호집에 보면 백성 3만명의 피난민들이 이순신한테 몰렸는데  칠천량에서 대패하고 수군의 12척 밖에 없는걸 알고 모두 흩어질려는걸  오창익이라는 분이 설득해서 도망갈때도 없고  임금과의 의리를 지키자고 설득을 합니다  그래서 후방에 천척이 넘는 배가 위장하는 거고 언덕위에 수많은 사람들이  전쟁을 지켜봅니다   이런것도 재연을 잘했고  전쟁끝나고 마와 오이 먹는 장면도 재연을 아주 잘했습니다  배에 솜이불을 걸어뒀다는 기록이 있는데 그것 빠졌어요  저는 아주 재미 있게 봤습니다 \n",
            "8 - 어떤 일본 애들은 이순신을 신으로 모신다지 이게 시나리오로만 나왔다면 나도 비판했겠는데... 실화잖아 물론 각색도 있었겠지만 현실이 연출보다 더한 경우를 종종 봐와서 말이지. 내부자들 보고 과장이 좀 있네 생각했는데 김학의 건 보고는 영화가 얌전했네 생각 들었음\n",
            "10 - 영화 명량은 참으로 감동적이었지요. 난 영화관에서 보았는데... 가장 인상 깊었던 대사가 '나중에 자손들이 우리 이러고 고생한 거 알까?'와 '장군님 저희들이 (배를) 끌겠습니다요.'였지요.\n",
            "10 - 영화관에서 볼때는 해전만 눈에띄는 스케일만 큰 영화라고생각했었는데 다시보니 볼때마다 다르게보이네요 멋지고 지금보니 현재활동 활발하게 하는 연예인들 보여서 신기하네요 굿굿입니다\n",
            "수집한 데이터를 'movie-reviews_myunglyang.txt'로 저장하였습니다.\n"
          ]
        },
        {
          "output_type": "display_data",
          "data": {
            "application/javascript": [
              "\n",
              "    async function download(id, filename, size) {\n",
              "      if (!google.colab.kernel.accessAllowed) {\n",
              "        return;\n",
              "      }\n",
              "      const div = document.createElement('div');\n",
              "      const label = document.createElement('label');\n",
              "      label.textContent = `Downloading \"${filename}\": `;\n",
              "      div.appendChild(label);\n",
              "      const progress = document.createElement('progress');\n",
              "      progress.max = size;\n",
              "      div.appendChild(progress);\n",
              "      document.body.appendChild(div);\n",
              "\n",
              "      const buffers = [];\n",
              "      let downloaded = 0;\n",
              "\n",
              "      const channel = await google.colab.kernel.comms.open(id);\n",
              "      // Send a message to notify the kernel that we're ready.\n",
              "      channel.send({})\n",
              "\n",
              "      for await (const message of channel.messages) {\n",
              "        // Send a message to notify the kernel that we're ready.\n",
              "        channel.send({})\n",
              "        if (message.buffers) {\n",
              "          for (const buffer of message.buffers) {\n",
              "            buffers.push(buffer);\n",
              "            downloaded += buffer.byteLength;\n",
              "            progress.value = downloaded;\n",
              "          }\n",
              "        }\n",
              "      }\n",
              "      const blob = new Blob(buffers, {type: 'application/binary'});\n",
              "      const a = document.createElement('a');\n",
              "      a.href = window.URL.createObjectURL(blob);\n",
              "      a.download = filename;\n",
              "      div.appendChild(a);\n",
              "      a.click();\n",
              "      div.remove();\n",
              "    }\n",
              "  "
            ],
            "text/plain": [
              "<IPython.core.display.Javascript object>"
            ]
          },
          "metadata": {}
        },
        {
          "output_type": "display_data",
          "data": {
            "application/javascript": [
              "download(\"download_19e596b9-9b34-4243-95ff-fcc8096a4531\", \"movie-reviews_myunglyang.txt\", 1234685)"
            ],
            "text/plain": [
              "<IPython.core.display.Javascript object>"
            ]
          },
          "metadata": {}
        },
        {
          "output_type": "display_data",
          "data": {
            "application/javascript": [
              "\n",
              "    async function download(id, filename, size) {\n",
              "      if (!google.colab.kernel.accessAllowed) {\n",
              "        return;\n",
              "      }\n",
              "      const div = document.createElement('div');\n",
              "      const label = document.createElement('label');\n",
              "      label.textContent = `Downloading \"${filename}\": `;\n",
              "      div.appendChild(label);\n",
              "      const progress = document.createElement('progress');\n",
              "      progress.max = size;\n",
              "      div.appendChild(progress);\n",
              "      document.body.appendChild(div);\n",
              "\n",
              "      const buffers = [];\n",
              "      let downloaded = 0;\n",
              "\n",
              "      const channel = await google.colab.kernel.comms.open(id);\n",
              "      // Send a message to notify the kernel that we're ready.\n",
              "      channel.send({})\n",
              "\n",
              "      for await (const message of channel.messages) {\n",
              "        // Send a message to notify the kernel that we're ready.\n",
              "        channel.send({})\n",
              "        if (message.buffers) {\n",
              "          for (const buffer of message.buffers) {\n",
              "            buffers.push(buffer);\n",
              "            downloaded += buffer.byteLength;\n",
              "            progress.value = downloaded;\n",
              "          }\n",
              "        }\n",
              "      }\n",
              "      const blob = new Blob(buffers, {type: 'application/binary'});\n",
              "      const a = document.createElement('a');\n",
              "      a.href = window.URL.createObjectURL(blob);\n",
              "      a.download = filename;\n",
              "      div.appendChild(a);\n",
              "      a.click();\n",
              "      div.remove();\n",
              "    }\n",
              "  "
            ],
            "text/plain": [
              "<IPython.core.display.Javascript object>"
            ]
          },
          "metadata": {}
        },
        {
          "output_type": "display_data",
          "data": {
            "application/javascript": [
              "download(\"download_3cb8caf5-3ca8-4330-8984-bb17cf738c81\", \"movie-reviews_myunglyang.csv\", 1292266)"
            ],
            "text/plain": [
              "<IPython.core.display.Javascript object>"
            ]
          },
          "metadata": {}
        }
      ],
      "source": [
        "# 리뷰 저장하는 코드 \n",
        "\n",
        "print(f'총 리뷰 개수.......: {len(comments):,}개')\n",
        "print(f'총 리뷰 평점 개수...: {len(ratings):,}개')\n",
        "\n",
        "for i, score in enumerate(ratings[:10]):\n",
        "  print(f'{score} - {comments[i]}')\n",
        "\n",
        "filename_reviews = 'movie-reviews_myunglyang.txt'\n",
        "\n",
        "with open(filename_reviews, mode='w', encoding='utf-8') as file:\n",
        "  for i, score in enumerate(ratings):\n",
        "    file.write(score + '|')           \n",
        "    file.write(comments[i] + '\\n')  \n",
        "      \n",
        "print(f\"수집한 데이터를 '{filename_reviews}'로 저장하였습니다.\")\n",
        "\n",
        "\n",
        "from google.colab import files\n",
        "files.download('movie-reviews_myunglyang.txt')\n",
        "\n",
        "#데이터 프레임으로 저장\n",
        "import pandas as pd\n",
        "pd = pd.DataFrame({'ratings':ratings,\n",
        "                             'comments':comments})   #index 지정\n",
        "pd.to_csv(\"movie-reviews_myunglyang.csv\",encoding=\"utf-8-sig\")\n",
        "files.download('movie-reviews_myunglyang.csv')"
      ]
    },
    {
      "cell_type": "markdown",
      "metadata": {
        "id": "7oY_ehP4p8ER"
      },
      "source": [
        ""
      ]
    },
    {
      "cell_type": "markdown",
      "metadata": {
        "id": "YwPya7PRp-lr"
      },
      "source": [
        "#영화 <극한직업> 리뷰 데이터 수집"
      ]
    },
    {
      "cell_type": "code",
      "execution_count": null,
      "metadata": {
        "colab": {
          "base_uri": "https://localhost:8080/",
          "height": 74
        },
        "id": "MJmHe19hp-lr",
        "outputId": "b8c25be0-2497-4276-c13e-c3723fd794b9"
      },
      "outputs": [
        {
          "name": "stderr",
          "output_type": "stream",
          "text": [
            "/usr/local/lib/python3.7/dist-packages/ipykernel_launcher.py:25: DeprecationWarning: find_element_by_* commands are deprecated. Please use find_element() instead\n"
          ]
        },
        {
          "data": {
            "application/vnd.google.colaboratory.intrinsic+json": {
              "type": "string"
            },
            "text/plain": [
              "'닭도 잘 튀기고 싸움도 잘하고 배우들 연기마저 능숙하다'"
            ]
          },
          "execution_count": 21,
          "metadata": {},
          "output_type": "execute_result"
        }
      ],
      "source": [
        "#코드 출처:최민주 \n",
        "\n",
        "\n",
        "\n",
        "movie_id = '119859'\n",
        "URL = 'https://movie.daum.net/moviedb/grade?movieId=' + movie_id\n",
        "\n",
        "driver.get(URL)\n",
        "\n",
        "# html = driver.page_source\n",
        "# soup = BeautifulSoup(html,\"html.parser\")\n",
        "\n",
        "\n",
        "#파싱을 다 하기 전에 코드가 넘어가버리는 경우를 막기위해 WebDriverWait 사용 \n",
        "try:  \n",
        "    #  element가 로딩될 때 까지 10초 대기 \n",
        "    review = WebDriverWait(driver, 10).until(\n",
        "        EC.presence_of_element_located((By.CLASS_NAME, 'desc_txt'))\n",
        "    )    \n",
        "\n",
        "except TimeoutException:    \n",
        "    ## 엘리먼트 로딩 실패 시에는 에러메시지 출력 \n",
        "    print('해당 페이지에 리뷰 정보가 존재하지 않습니다.')\n",
        "\n",
        "review = driver.find_element_by_class_name('desc_txt')\n",
        "\n",
        "review.text"
      ]
    },
    {
      "cell_type": "code",
      "execution_count": null,
      "metadata": {
        "colab": {
          "base_uri": "https://localhost:8080/"
        },
        "id": "uzpB2bTOp-ls",
        "outputId": "05a68b5c-5980-468c-9cba-c2103c25cc51"
      },
      "outputs": [
        {
          "name": "stderr",
          "output_type": "stream",
          "text": [
            "/usr/local/lib/python3.7/dist-packages/ipykernel_launcher.py:3: DeprecationWarning: find_elements_by_* commands are deprecated. Please use find_elements() instead\n",
            "  This is separate from the ipykernel package so we can avoid doing imports until\n",
            "/usr/local/lib/python3.7/dist-packages/ipykernel_launcher.py:4: DeprecationWarning: find_elements_by_* commands are deprecated. Please use find_elements() instead\n",
            "  after removing the cwd from sys.path.\n"
          ]
        },
        {
          "name": "stdout",
          "output_type": "stream",
          "text": [
            ">> 오ㅡㅡㅡㅡ재밋네. 역시 우리나라국민들국난극복취미의 피는 저때부터 쭉 흘러온거구만. 이순신멋지다. 설민석이순신편 보러가야겟다. 영화끝나면.  근데 나 이순신보는데, 노무현대통령이랑 문재인대통령 떠오르지? 국민만보고 가는 리더들. 울들목물음에, 특히 \"천행이엇다. 그순간 백성들이 나를 도와주지 않앗더냐\"하는부분에서는 완전\n",
            ">> 최민식을 다시 보게 된 영화입니다. 개인의 욕심이 , 나약함이, 두려움이 나라를 힘들게 하네요 . 나라를 지킨 이땅의 모든 용기있는 선조들께 감사할뿐입니다.\n",
            ">> 다시봐도 감동입니다 왜놈한텐 한발자국도 내줄수 없죠\n",
            ">> 정말 우리나라 사람들이 대단한것 같아요ㅠㅠㅠ이순신 짱!\n",
            ">> 이런 영화를 재미로 보는 역사의식 없는 놈들이 아직도 존재한다니 한탄을 금치 못하겠다. 과거를 잊은 민족은 미래가 없다는 것을 다시 한번 마음속에 각인 시켰으면 한다.\n",
            ">> 몰입도 완전캡  정말  영화 잘 만들었습니다\n",
            ">> 지금까지 우리나라 이순신 드라마나 영화중에  이렇게 실제 상황을 재연한 경우는 없었어요 대부분이 막연한 상상으로 만든 영화들이죠  장군혼자 싸운것은 팩트고 나머지 장수들이 겁을 먹어서 뒤에 있었던것도 팩트고  사호집에 보면 백성 3만명의 피난민들이 이순신한테 몰렸는데  칠천량에서 대패하고 수군의 12척 밖에 없는걸 알고 모두 흩어질려는걸  오창익이라는 분이 설득해서 도망갈때도 없고  임금과의 의리를 지키자고 설득을 합니다  그래서 후방에 천척이 넘는 배가 위장하는 거고 언덕위에 수많은 사람들이  전쟁을 지켜봅니다   이런것도 재연을 잘했고  전쟁끝나고 마와 오이 먹는 장면도 재연을 아주 잘했습니다  배에 솜이불을 걸어뒀다는 기록이 있는데 그것 빠졌어요  저는 아주 재미 있게 봤습니다 \n",
            ">> 어떤 일본 애들은 이순신을 신으로 모신다지 이게 시나리오로만 나왔다면 나도 비판했겠는데... 실화잖아 물론 각색도 있었겠지만 현실이 연출보다 더한 경우를 종종 봐와서 말이지. 내부자들 보고 과장이 좀 있네 생각했는데 김학의 건 보고는 영화가 얌전했네 생각 들었음\n",
            ">> 영화 명량은 참으로 감동적이었지요. 난 영화관에서 보았는데... 가장 인상 깊었던 대사가 '나중에 자손들이 우리 이러고 고생한 거 알까?'와 '장군님 저희들이 (배를) 끌겠습니다요.'였지요.\n",
            ">> 영화관에서 볼때는 해전만 눈에띄는 스케일만 큰 영화라고생각했었는데 다시보니 볼때마다 다르게보이네요 멋지고 지금보니 현재활동 활발하게 하는 연예인들 보여서 신기하네요 굿굿입니다\n",
            "9점, 9점, 10점, 10점, 10점, 10점, 10점, 8점, 10점, 10점, "
          ]
        }
      ],
      "source": [
        "#한페이지 전체 가져오기 \n",
        "\n",
        "reviews = driver.find_elements_by_class_name('desc_txt')\n",
        "scores = driver.find_elements_by_class_name('ratings')\n",
        "\n",
        "for review in reviews:\n",
        "  print('>>', review.text.replace('\\n', ' '))\n",
        "\n",
        "for score in scores:\n",
        "  print(score.text, end='점, ')\n"
      ]
    },
    {
      "cell_type": "code",
      "execution_count": null,
      "metadata": {
        "colab": {
          "base_uri": "https://localhost:8080/"
        },
        "id": "LkinWve_p-ls",
        "outputId": "600eb9e7-3aa4-4400-bdb3-e7e6183a9f94"
      },
      "outputs": [
        {
          "name": "stdout",
          "output_type": "stream",
          "text": [
            "\n",
            "영화 리뷰 수 :  10 \n",
            "영화 별점 수 :  10\n"
          ]
        }
      ],
      "source": [
        "#리뷰의 수와 별점의 수가 동일한지 확인하기\n",
        "\n",
        "print('\\n영화 리뷰 수 : ', len(reviews), '\\n영화 별점 수 : ', len(scores))"
      ]
    },
    {
      "cell_type": "code",
      "execution_count": null,
      "metadata": {
        "colab": {
          "base_uri": "https://localhost:8080/",
          "height": 1000
        },
        "id": "ja5LQAqEp-lt",
        "outputId": "82a60ffe-c4b7-4d94-beb7-04751aa73bb0"
      },
      "outputs": [
        {
          "name": "stderr",
          "output_type": "stream",
          "text": [
            "/usr/local/lib/python3.7/dist-packages/ipykernel_launcher.py:2: DeprecationWarning: find_elements_by_* commands are deprecated. Please use find_elements() instead\n",
            "  \n",
            "/usr/local/lib/python3.7/dist-packages/selenium/webdriver/remote/webelement.py:446: UserWarning: find_element_by_* commands are deprecated. Please use find_element() instead\n",
            "  warnings.warn(\"find_element_by_* commands are deprecated. Please use find_element() instead\")\n"
          ]
        },
        {
          "ename": "NameError",
          "evalue": "ignored",
          "output_type": "error",
          "traceback": [
            "\u001b[0;31m---------------------------------------------------------------------------\u001b[0m",
            "\u001b[0;31mNoSuchElementException\u001b[0m                    Traceback (most recent call last)",
            "\u001b[0;32m<ipython-input-23-50ba4eccbb09>\u001b[0m in \u001b[0;36m<module>\u001b[0;34m()\u001b[0m\n\u001b[1;32m     20\u001b[0m   \u001b[0;32mtry\u001b[0m\u001b[0;34m:\u001b[0m\u001b[0;34m\u001b[0m\u001b[0;34m\u001b[0m\u001b[0m\n\u001b[0;32m---> 21\u001b[0;31m     \u001b[0mcomments\u001b[0m\u001b[0;34m.\u001b[0m\u001b[0mappend\u001b[0m\u001b[0;34m(\u001b[0m\u001b[0mreview_elem\u001b[0m\u001b[0;34m.\u001b[0m\u001b[0mfind_element_by_class_name\u001b[0m\u001b[0;34m(\u001b[0m\u001b[0;34m'desc_txt'\u001b[0m\u001b[0;34m)\u001b[0m\u001b[0;34m.\u001b[0m\u001b[0mtext\u001b[0m\u001b[0;34m.\u001b[0m\u001b[0mreplace\u001b[0m\u001b[0;34m(\u001b[0m\u001b[0;34m'\\n'\u001b[0m\u001b[0;34m,\u001b[0m \u001b[0;34m' '\u001b[0m\u001b[0;34m)\u001b[0m\u001b[0;34m)\u001b[0m\u001b[0;34m\u001b[0m\u001b[0;34m\u001b[0m\u001b[0m\n\u001b[0m\u001b[1;32m     22\u001b[0m   \u001b[0;32mexcept\u001b[0m \u001b[0mNoSuchElementException\u001b[0m\u001b[0;34m:\u001b[0m\u001b[0;34m\u001b[0m\u001b[0;34m\u001b[0m\u001b[0m\n",
            "\u001b[0;32m/usr/local/lib/python3.7/dist-packages/selenium/webdriver/remote/webelement.py\u001b[0m in \u001b[0;36mfind_element_by_class_name\u001b[0;34m(self, name)\u001b[0m\n\u001b[1;32m    446\u001b[0m         \u001b[0mwarnings\u001b[0m\u001b[0;34m.\u001b[0m\u001b[0mwarn\u001b[0m\u001b[0;34m(\u001b[0m\u001b[0;34m\"find_element_by_* commands are deprecated. Please use find_element() instead\"\u001b[0m\u001b[0;34m)\u001b[0m\u001b[0;34m\u001b[0m\u001b[0;34m\u001b[0m\u001b[0m\n\u001b[0;32m--> 447\u001b[0;31m         \u001b[0;32mreturn\u001b[0m \u001b[0mself\u001b[0m\u001b[0;34m.\u001b[0m\u001b[0mfind_element\u001b[0m\u001b[0;34m(\u001b[0m\u001b[0mby\u001b[0m\u001b[0;34m=\u001b[0m\u001b[0mBy\u001b[0m\u001b[0;34m.\u001b[0m\u001b[0mCLASS_NAME\u001b[0m\u001b[0;34m,\u001b[0m \u001b[0mvalue\u001b[0m\u001b[0;34m=\u001b[0m\u001b[0mname\u001b[0m\u001b[0;34m)\u001b[0m\u001b[0;34m\u001b[0m\u001b[0;34m\u001b[0m\u001b[0m\n\u001b[0m\u001b[1;32m    448\u001b[0m \u001b[0;34m\u001b[0m\u001b[0m\n",
            "\u001b[0;32m/usr/local/lib/python3.7/dist-packages/selenium/webdriver/remote/webelement.py\u001b[0m in \u001b[0;36mfind_element\u001b[0;34m(self, by, value)\u001b[0m\n\u001b[1;32m    735\u001b[0m         return self._execute(Command.FIND_CHILD_ELEMENT,\n\u001b[0;32m--> 736\u001b[0;31m                              {\"using\": by, \"value\": value})['value']\n\u001b[0m\u001b[1;32m    737\u001b[0m \u001b[0;34m\u001b[0m\u001b[0m\n",
            "\u001b[0;32m/usr/local/lib/python3.7/dist-packages/selenium/webdriver/remote/webelement.py\u001b[0m in \u001b[0;36m_execute\u001b[0;34m(self, command, params)\u001b[0m\n\u001b[1;32m    709\u001b[0m         \u001b[0mparams\u001b[0m\u001b[0;34m[\u001b[0m\u001b[0;34m'id'\u001b[0m\u001b[0;34m]\u001b[0m \u001b[0;34m=\u001b[0m \u001b[0mself\u001b[0m\u001b[0;34m.\u001b[0m\u001b[0m_id\u001b[0m\u001b[0;34m\u001b[0m\u001b[0;34m\u001b[0m\u001b[0m\n\u001b[0;32m--> 710\u001b[0;31m         \u001b[0;32mreturn\u001b[0m \u001b[0mself\u001b[0m\u001b[0;34m.\u001b[0m\u001b[0m_parent\u001b[0m\u001b[0;34m.\u001b[0m\u001b[0mexecute\u001b[0m\u001b[0;34m(\u001b[0m\u001b[0mcommand\u001b[0m\u001b[0;34m,\u001b[0m \u001b[0mparams\u001b[0m\u001b[0;34m)\u001b[0m\u001b[0;34m\u001b[0m\u001b[0;34m\u001b[0m\u001b[0m\n\u001b[0m\u001b[1;32m    711\u001b[0m \u001b[0;34m\u001b[0m\u001b[0m\n",
            "\u001b[0;32m/usr/local/lib/python3.7/dist-packages/selenium/webdriver/remote/webdriver.py\u001b[0m in \u001b[0;36mexecute\u001b[0;34m(self, driver_command, params)\u001b[0m\n\u001b[1;32m    423\u001b[0m         \u001b[0;32mif\u001b[0m \u001b[0mresponse\u001b[0m\u001b[0;34m:\u001b[0m\u001b[0;34m\u001b[0m\u001b[0;34m\u001b[0m\u001b[0m\n\u001b[0;32m--> 424\u001b[0;31m             \u001b[0mself\u001b[0m\u001b[0;34m.\u001b[0m\u001b[0merror_handler\u001b[0m\u001b[0;34m.\u001b[0m\u001b[0mcheck_response\u001b[0m\u001b[0;34m(\u001b[0m\u001b[0mresponse\u001b[0m\u001b[0;34m)\u001b[0m\u001b[0;34m\u001b[0m\u001b[0;34m\u001b[0m\u001b[0m\n\u001b[0m\u001b[1;32m    425\u001b[0m             response['value'] = self._unwrap_value(\n",
            "\u001b[0;32m/usr/local/lib/python3.7/dist-packages/selenium/webdriver/remote/errorhandler.py\u001b[0m in \u001b[0;36mcheck_response\u001b[0;34m(self, response)\u001b[0m\n\u001b[1;32m    246\u001b[0m             \u001b[0;32mraise\u001b[0m \u001b[0mexception_class\u001b[0m\u001b[0;34m(\u001b[0m\u001b[0mmessage\u001b[0m\u001b[0;34m,\u001b[0m \u001b[0mscreen\u001b[0m\u001b[0;34m,\u001b[0m \u001b[0mstacktrace\u001b[0m\u001b[0;34m,\u001b[0m \u001b[0malert_text\u001b[0m\u001b[0;34m)\u001b[0m  \u001b[0;31m# type: ignore[call-arg]  # mypy is not smart enough here\u001b[0m\u001b[0;34m\u001b[0m\u001b[0;34m\u001b[0m\u001b[0m\n\u001b[0;32m--> 247\u001b[0;31m         \u001b[0;32mraise\u001b[0m \u001b[0mexception_class\u001b[0m\u001b[0;34m(\u001b[0m\u001b[0mmessage\u001b[0m\u001b[0;34m,\u001b[0m \u001b[0mscreen\u001b[0m\u001b[0;34m,\u001b[0m \u001b[0mstacktrace\u001b[0m\u001b[0;34m)\u001b[0m\u001b[0;34m\u001b[0m\u001b[0;34m\u001b[0m\u001b[0m\n\u001b[0m\u001b[1;32m    248\u001b[0m \u001b[0;34m\u001b[0m\u001b[0m\n",
            "\u001b[0;31mNoSuchElementException\u001b[0m: Message: no such element: Unable to locate element: {\"method\":\"css selector\",\"selector\":\".desc_txt\"}\n  (Session info: headless chrome=95.0.4638.69)\nStacktrace:\n#0 0x5565bd965623 <unknown>\n#1 0x5565bd66cd43 <unknown>\n#2 0x5565bd6a25f0 <unknown>\n#3 0x5565bd698667 <unknown>\n#4 0x5565bd6bf64d <unknown>\n#5 0x5565bd6985b6 <unknown>\n#6 0x5565bd6bfa3e <unknown>\n#7 0x5565bd6d40ac <unknown>\n#8 0x5565bd6bf9e3 <unknown>\n#9 0x5565bd696c0c <unknown>\n#10 0x5565bd6980d5 <unknown>\n#11 0x5565bd989954 <unknown>\n#12 0x5565bd998f6d <unknown>\n#13 0x5565bd998c8b <unknown>\n#14 0x5565bd9995b2 <unknown>\n#15 0x5565bd9d1e8b <unknown>\n#16 0x5565bd999811 <unknown>\n#17 0x5565bd97e831 <unknown>\n#18 0x5565bd9a2218 <unknown>\n#19 0x5565bd9a23aa <unknown>\n#20 0x5565bd9bc3bf <unknown>\n#21 0x7fa4438f56db <unknown>\n",
            "\nDuring handling of the above exception, another exception occurred:\n",
            "\u001b[0;31mNameError\u001b[0m                                 Traceback (most recent call last)",
            "\u001b[0;32m<ipython-input-23-50ba4eccbb09>\u001b[0m in \u001b[0;36m<module>\u001b[0;34m()\u001b[0m\n\u001b[1;32m     20\u001b[0m   \u001b[0;32mtry\u001b[0m\u001b[0;34m:\u001b[0m\u001b[0;34m\u001b[0m\u001b[0;34m\u001b[0m\u001b[0m\n\u001b[1;32m     21\u001b[0m     \u001b[0mcomments\u001b[0m\u001b[0;34m.\u001b[0m\u001b[0mappend\u001b[0m\u001b[0;34m(\u001b[0m\u001b[0mreview_elem\u001b[0m\u001b[0;34m.\u001b[0m\u001b[0mfind_element_by_class_name\u001b[0m\u001b[0;34m(\u001b[0m\u001b[0;34m'desc_txt'\u001b[0m\u001b[0;34m)\u001b[0m\u001b[0;34m.\u001b[0m\u001b[0mtext\u001b[0m\u001b[0;34m.\u001b[0m\u001b[0mreplace\u001b[0m\u001b[0;34m(\u001b[0m\u001b[0;34m'\\n'\u001b[0m\u001b[0;34m,\u001b[0m \u001b[0;34m' '\u001b[0m\u001b[0;34m)\u001b[0m\u001b[0;34m)\u001b[0m\u001b[0;34m\u001b[0m\u001b[0;34m\u001b[0m\u001b[0m\n\u001b[0;32m---> 22\u001b[0;31m   \u001b[0;32mexcept\u001b[0m \u001b[0mNoSuchElementException\u001b[0m\u001b[0;34m:\u001b[0m\u001b[0;34m\u001b[0m\u001b[0;34m\u001b[0m\u001b[0m\n\u001b[0m\u001b[1;32m     23\u001b[0m     \u001b[0mcomments\u001b[0m\u001b[0;34m.\u001b[0m\u001b[0mappend\u001b[0m\u001b[0;34m(\u001b[0m\u001b[0;34m''\u001b[0m\u001b[0;34m)\u001b[0m\u001b[0;34m\u001b[0m\u001b[0;34m\u001b[0m\u001b[0m\n\u001b[1;32m     24\u001b[0m \u001b[0;34m\u001b[0m\u001b[0m\n",
            "\u001b[0;31mNameError\u001b[0m: name 'NoSuchElementException' is not defined"
          ]
        }
      ],
      "source": [
        "# 리뷰 관련 모든 정보를 가져온다.\n",
        "review_elems = driver.find_elements_by_class_name('cmt_info')\n",
        "\n",
        "ratings = []    # 네티즌 평가 점수\n",
        "comments = []   # 네티즌 리뷰 코멘트\n",
        "\n",
        "\n",
        "try:    \n",
        "    review = WebDriverWait(driver, 20).until(\n",
        "        EC.presence_of_element_located((By.CLASS_NAME, 'desc_txt'))\n",
        "    )   \n",
        "\n",
        "except TimeoutException:  \n",
        "    print('해당 페이지에 리뷰 정보가 존재하지 않습니다.')\n",
        "\n",
        "# 영화 리뷰 관련 모든 정보를 가져와서 리스트에 담는다.\n",
        "for review_elem in review_elems:\n",
        "  \n",
        "  ratings.append(review_elem.find_element_by_class_name('ratings').text)\n",
        "  try:\n",
        "    comments.append(review_elem.find_element_by_class_name('desc_txt').text.replace('\\n', ' '))\n",
        "  except NoSuchElementException:\n",
        "    comments.append('')\n",
        "\n",
        "for i, score in enumerate(ratings):\n",
        "  print(f'{score}점, 리뷰: {comments[i]}')"
      ]
    },
    {
      "cell_type": "code",
      "execution_count": null,
      "metadata": {
        "colab": {
          "base_uri": "https://localhost:8080/"
        },
        "id": "mVTp2klIp-lt",
        "outputId": "d689065b-782e-4e42-fe8f-dda71f27659d"
      },
      "outputs": [
        {
          "name": "stdout",
          "output_type": "stream",
          "text": [
            "Unfolding movie review pages:\n",
            "Counting pages...\n",
            "1|2|3|4|5|6|7|8|9|10|11|12|13|14|15|16|17|18|19|20\n",
            "21|22|23|24|25|26|27|28|29|30|31|32|33|34|35|36|37|38|39|40\n",
            "41|42|43|44|45|46|47|48|49|50|51|52|53|54|55|56|57|58|59|60\n",
            "61|62|63|64|65|66|67|68|69|70|71|72|73|74|75|76|77|78|79|80\n",
            "81|82|83|84|85|86|87|88|89|90|91|92|93|94|95|96|97|98|99|100\n",
            "101|102|103|104|105|106|107|108|109|110|111|112|113|114|115|116|117|118|119|120\n",
            "121|122|123|124|125|126|127|128|129|130|131|132|133|134|135|136|137|138|139|140\n",
            "141|142|143|144|145|146|147|148|149|150|151|152|153|154|155|156|157|158|159|160\n",
            "161|162|163|164|165|166|167|168|169|170|171|172|173|174|175|176|177|178|179|180\n",
            "181|182|183|184|185|186|187|188|189|190|191|192|193|194|Done!\n"
          ]
        }
      ],
      "source": [
        "#* 평점 더보기 버튼을 자동으로 눌러 모든 리뷰&별점 가져오기  페이지 클릭\n",
        "\n",
        "print('Unfolding movie review pages:')\n",
        "click = 0  \n",
        "print('Counting pages...')\n",
        "\n",
        "XPATH = '''//*[@id=\"alex-area\"]/div/div/div/div[3]/div[1]/button'''\n",
        "while True:\n",
        "  try: \n",
        "    WebDriverWait(driver, 10).until(EC.presence_of_element_located(\n",
        "      (By.XPATH, XPATH))).click()\n",
        "      \n",
        "    click += 1\n",
        "    print(click) if click % 20 == 0 else print(click, end='|')\n",
        "  except TimeoutException: \n",
        "    print('Done!')\n",
        "    break"
      ]
    },
    {
      "cell_type": "code",
      "execution_count": null,
      "metadata": {
        "colab": {
          "base_uri": "https://localhost:8080/"
        },
        "id": "TdgKpFCSp-lt",
        "outputId": "f82b7b01-265a-4f3d-885f-6a9838970aca"
      },
      "outputs": [
        {
          "name": "stdout",
          "output_type": "stream",
          "text": [
            "Extracting movie reviews...\n"
          ]
        },
        {
          "name": "stderr",
          "output_type": "stream",
          "text": [
            "/usr/local/lib/python3.7/dist-packages/ipykernel_launcher.py:7: DeprecationWarning: find_elements_by_* commands are deprecated. Please use find_elements() instead\n",
            "  import sys\n"
          ]
        },
        {
          "name": "stdout",
          "output_type": "stream",
          "text": [
            "\n",
            "--- Job completed! 총 5,809개의 리뷰 데이터를 수집했습니다. ----------- \n",
            "\n"
          ]
        }
      ],
      "source": [
        "#리뷰수집\n",
        "\n",
        "ratings = []    # 네티즌 평가 점수\n",
        "comments = []   # 네티즌 리뷰 코멘트\n",
        "\n",
        "print('Extracting movie reviews...')\n",
        "review_elems = driver.find_elements_by_class_name('cmt_info')\n",
        "for review_elem in review_elems:\n",
        "\n",
        "  ratings.append(review_elem.find_element(By.CLASS_NAME, 'ratings').text)\n",
        "  try:\n",
        "    comments.append(review_elem.find_element(By.CLASS_NAME, \n",
        "                        'desc_txt').text.replace('\\n', ' '))\n",
        "  except:\n",
        "    comments.append('')\n",
        "else:\n",
        "  print('\\n--- Job completed!', \n",
        "        f'총 {len(review_elems):,}개의 리뷰 데이터를 수집했습니다.', \n",
        "        '-' * 11, '\\n') "
      ]
    },
    {
      "cell_type": "code",
      "execution_count": null,
      "metadata": {
        "colab": {
          "base_uri": "https://localhost:8080/",
          "height": 276
        },
        "id": "d2r7GcSvrfuQ",
        "outputId": "a264db44-eabb-4a2d-de14-2087b962d1b5"
      },
      "outputs": [
        {
          "name": "stdout",
          "output_type": "stream",
          "text": [
            "총 리뷰 개수.......: 5,809개\n",
            "총 리뷰 평점 개수...: 5,809개\n",
            "9 - 닭도 잘 튀기고 싸움도 잘하고 배우들 연기마저 능숙하다\n",
            "8 - 재밌게본 영화\n",
            "10 - 진짜 꿀잼\n",
            "10 - 너무 재미있지만 욕이 좀 있어서 10점 드립니다\n",
            "10 - 오랜만에 재밌는 한국영화 잘 보았습니다\n",
            "10 - 👍👍👍\n",
            "10 - \n",
            "9 - 관객 수준 운운하시는 분은 수준이 얼마나 높길래?  나는 수준이 낮아서 간만에 입째지게 웃었네 ㅋ\n",
            "9 - 욕이 좀 많아서 9점ㅡㅡ\n",
            "1 - 이런 영화를 극장에서 천육백만이나 봤다는게 놀랍다\n",
            "수집한 데이터를 'movie-reviews_Extreme Job.txt'로 저장하였습니다.\n"
          ]
        },
        {
          "data": {
            "application/javascript": [
              "\n",
              "    async function download(id, filename, size) {\n",
              "      if (!google.colab.kernel.accessAllowed) {\n",
              "        return;\n",
              "      }\n",
              "      const div = document.createElement('div');\n",
              "      const label = document.createElement('label');\n",
              "      label.textContent = `Downloading \"${filename}\": `;\n",
              "      div.appendChild(label);\n",
              "      const progress = document.createElement('progress');\n",
              "      progress.max = size;\n",
              "      div.appendChild(progress);\n",
              "      document.body.appendChild(div);\n",
              "\n",
              "      const buffers = [];\n",
              "      let downloaded = 0;\n",
              "\n",
              "      const channel = await google.colab.kernel.comms.open(id);\n",
              "      // Send a message to notify the kernel that we're ready.\n",
              "      channel.send({})\n",
              "\n",
              "      for await (const message of channel.messages) {\n",
              "        // Send a message to notify the kernel that we're ready.\n",
              "        channel.send({})\n",
              "        if (message.buffers) {\n",
              "          for (const buffer of message.buffers) {\n",
              "            buffers.push(buffer);\n",
              "            downloaded += buffer.byteLength;\n",
              "            progress.value = downloaded;\n",
              "          }\n",
              "        }\n",
              "      }\n",
              "      const blob = new Blob(buffers, {type: 'application/binary'});\n",
              "      const a = document.createElement('a');\n",
              "      a.href = window.URL.createObjectURL(blob);\n",
              "      a.download = filename;\n",
              "      div.appendChild(a);\n",
              "      a.click();\n",
              "      div.remove();\n",
              "    }\n",
              "  "
            ],
            "text/plain": [
              "<IPython.core.display.Javascript object>"
            ]
          },
          "metadata": {},
          "output_type": "display_data"
        },
        {
          "data": {
            "application/javascript": [
              "download(\"download_d47a40bb-46a3-4319-b2dc-38ce8eb51361\", \"movie-reviews_Extreme Job.txt\", 511554)"
            ],
            "text/plain": [
              "<IPython.core.display.Javascript object>"
            ]
          },
          "metadata": {},
          "output_type": "display_data"
        }
      ],
      "source": [
        "#리뷰 저장\n",
        "\n",
        "print(f'총 리뷰 개수.......: {len(comments):,}개')\n",
        "print(f'총 리뷰 평점 개수...: {len(ratings):,}개')\n",
        "\n",
        "for i, score in enumerate(ratings[:10]):\n",
        "  print(f'{score} - {comments[i]}')\n",
        "\n",
        "filename_reviews = 'movie-reviews_Extreme Job.txt'\n",
        "\n",
        "with open(filename_reviews, mode='w', encoding='utf-8') as file:\n",
        "  for i, score in enumerate(ratings):\n",
        "    file.write(score + '|')           \n",
        "    file.write(comments[i] + '\\n')  \n",
        "      \n",
        "print(f\"수집한 데이터를 '{filename_reviews}'로 저장하였습니다.\")\n",
        "\n",
        "from google.colab import files\n",
        "files.download('movie-reviews_Extreme Job.txt')"
      ]
    },
    {
      "cell_type": "code",
      "execution_count": null,
      "metadata": {
        "colab": {
          "base_uri": "https://localhost:8080/",
          "height": 17
        },
        "id": "DlmHEGti4P_H",
        "outputId": "a2c46d02-2953-41de-94d3-3c3d7bee81c1"
      },
      "outputs": [
        {
          "data": {
            "application/javascript": [
              "\n",
              "    async function download(id, filename, size) {\n",
              "      if (!google.colab.kernel.accessAllowed) {\n",
              "        return;\n",
              "      }\n",
              "      const div = document.createElement('div');\n",
              "      const label = document.createElement('label');\n",
              "      label.textContent = `Downloading \"${filename}\": `;\n",
              "      div.appendChild(label);\n",
              "      const progress = document.createElement('progress');\n",
              "      progress.max = size;\n",
              "      div.appendChild(progress);\n",
              "      document.body.appendChild(div);\n",
              "\n",
              "      const buffers = [];\n",
              "      let downloaded = 0;\n",
              "\n",
              "      const channel = await google.colab.kernel.comms.open(id);\n",
              "      // Send a message to notify the kernel that we're ready.\n",
              "      channel.send({})\n",
              "\n",
              "      for await (const message of channel.messages) {\n",
              "        // Send a message to notify the kernel that we're ready.\n",
              "        channel.send({})\n",
              "        if (message.buffers) {\n",
              "          for (const buffer of message.buffers) {\n",
              "            buffers.push(buffer);\n",
              "            downloaded += buffer.byteLength;\n",
              "            progress.value = downloaded;\n",
              "          }\n",
              "        }\n",
              "      }\n",
              "      const blob = new Blob(buffers, {type: 'application/binary'});\n",
              "      const a = document.createElement('a');\n",
              "      a.href = window.URL.createObjectURL(blob);\n",
              "      a.download = filename;\n",
              "      div.appendChild(a);\n",
              "      a.click();\n",
              "      div.remove();\n",
              "    }\n",
              "  "
            ],
            "text/plain": [
              "<IPython.core.display.Javascript object>"
            ]
          },
          "metadata": {},
          "output_type": "display_data"
        },
        {
          "data": {
            "application/javascript": [
              "download(\"download_686f8085-05b8-452c-a379-3b99fff479a5\", \"movie-reviews_Extreme Job.csv\", 540347)"
            ],
            "text/plain": [
              "<IPython.core.display.Javascript object>"
            ]
          },
          "metadata": {},
          "output_type": "display_data"
        }
      ],
      "source": [
        "import pandas as pd\n",
        "\n",
        "\n",
        "pd = pd.DataFrame({'ratings':ratings,\n",
        "                             'comments':comments})   #index 지정\n",
        "pd.to_csv(\"movie-reviews_Extreme Job.csv\",encoding=\"utf-8-sig\")\n",
        "files.download('movie-reviews_Extreme Job.csv')"
      ]
    },
    {
      "cell_type": "code",
      "execution_count": null,
      "metadata": {
        "id": "bg_dPNBiqN43"
      },
      "outputs": [],
      "source": [
        ""
      ]
    },
    {
      "cell_type": "markdown",
      "metadata": {
        "id": "nIYPbXn4qRRx"
      },
      "source": [
        "#영화 <신과함께> 리뷰 데이터 수집"
      ]
    },
    {
      "cell_type": "code",
      "execution_count": null,
      "metadata": {
        "colab": {
          "base_uri": "https://localhost:8080/",
          "height": 54
        },
        "id": "aPreJKekqRRx",
        "outputId": "cad66f93-5f49-471e-8774-44a5fbad9b37"
      },
      "outputs": [
        {
          "name": "stderr",
          "output_type": "stream",
          "text": [
            "/usr/local/lib/python3.7/dist-packages/ipykernel_launcher.py:25: DeprecationWarning: find_element_by_* commands are deprecated. Please use find_element() instead\n"
          ]
        },
        {
          "data": {
            "application/vnd.google.colaboratory.intrinsic+json": {
              "type": "string"
            },
            "text/plain": [
              "'이제야 봤는데,\\n동양의 윤회사상이 바탕이라 기생충처럼 오스카상은 못받겠지만,\\n우리 나라 최고의 영화 중의 하나임에는 틀림 없다'"
            ]
          },
          "execution_count": 5,
          "metadata": {},
          "output_type": "execute_result"
        }
      ],
      "source": [
        "#코드 출처:최민주 \n",
        "\n",
        "\n",
        "\n",
        "movie_id = '73003'\n",
        "URL = 'https://movie.daum.net/moviedb/grade?movieId=' + movie_id\n",
        "\n",
        "driver.get(URL)\n",
        "\n",
        "# html = driver.page_source\n",
        "# soup = BeautifulSoup(html,\"html.parser\")\n",
        "\n",
        "\n",
        "#파싱을 다 하기 전에 코드가 넘어가버리는 경우를 막기위해 WebDriverWait 사용 \n",
        "try:  \n",
        "    #  element가 로딩될 때 까지 10초 대기 \n",
        "    review = WebDriverWait(driver, 10).until(\n",
        "        EC.presence_of_element_located((By.CLASS_NAME, 'desc_txt'))\n",
        "    )    \n",
        "\n",
        "except TimeoutException:    \n",
        "    ## 엘리먼트 로딩 실패 시에는 에러메시지 출력 \n",
        "    print('해당 페이지에 리뷰 정보가 존재하지 않습니다.')\n",
        "\n",
        "review = driver.find_element_by_class_name('desc_txt')\n",
        "\n",
        "review.text"
      ]
    },
    {
      "cell_type": "code",
      "execution_count": null,
      "metadata": {
        "colab": {
          "base_uri": "https://localhost:8080/"
        },
        "id": "QDIJ0lZTqRRy",
        "outputId": "597804a3-8786-45e5-80d5-5f14e9436a6a"
      },
      "outputs": [
        {
          "name": "stderr",
          "output_type": "stream",
          "text": [
            "/usr/local/lib/python3.7/dist-packages/ipykernel_launcher.py:3: DeprecationWarning: find_elements_by_* commands are deprecated. Please use find_elements() instead\n",
            "  This is separate from the ipykernel package so we can avoid doing imports until\n",
            "/usr/local/lib/python3.7/dist-packages/ipykernel_launcher.py:4: DeprecationWarning: find_elements_by_* commands are deprecated. Please use find_elements() instead\n",
            "  after removing the cwd from sys.path.\n"
          ]
        },
        {
          "name": "stdout",
          "output_type": "stream",
          "text": [
            ">> 이제야 봤는데, 동양의 윤회사상이 바탕이라 기생충처럼 오스카상은 못받겠지만, 우리 나라 최고의 영화 중의 하나임에는 틀림 없다\n",
            ">> 아이 구하다가 순직한 소방관에게 어떻게든 지옥 보내려고 안간힘 쓰는 영화\n",
            ">> 사후 세계를 현대적 느낌과 잘 섞어서 표현한것 같다 #씨9네마\n",
            ">> 진심으로 천국과 지옥을 오고가며 벌어지는 전생에 관한 이야기!!   너무 보고 싶어요!!!\n",
            ">> ..\n",
            ">> .\n",
            ">> 저승에서 판결하는것 생각하면 대한민국 쓰래기 판사들이 생각나서 화가남. 생각없이 보면 재밌음.\n",
            ">> 신과 함께 1은 주지훈 땜에 봤다가 김동욱 땜에 울었음ㅠㅠ 2편은 주지훈 하얀삵 연기가 멋졌음^^\n",
            "10점, 1점, 8점, 10점, 8점, 10점, 10점, 7점, 8점, 10점, "
          ]
        }
      ],
      "source": [
        "#한페이지 전체 가져오기 \n",
        "\n",
        "reviews = driver.find_elements_by_class_name('desc_txt')\n",
        "scores = driver.find_elements_by_class_name('ratings')\n",
        "\n",
        "for review in reviews:\n",
        "  print('>>', review.text.replace('\\n', ' '))\n",
        "\n",
        "for score in scores:\n",
        "  print(score.text, end='점, ')\n"
      ]
    },
    {
      "cell_type": "code",
      "execution_count": null,
      "metadata": {
        "colab": {
          "base_uri": "https://localhost:8080/"
        },
        "id": "VVQsXqt1qRRy",
        "outputId": "6677877c-667a-456f-a091-83fab04fd5da"
      },
      "outputs": [
        {
          "name": "stdout",
          "output_type": "stream",
          "text": [
            "\n",
            "영화 리뷰 수 :  8 \n",
            "영화 별점 수 :  10\n"
          ]
        }
      ],
      "source": [
        "#리뷰의 수와 별점의 수가 동일한지 확인하기\n",
        "\n",
        "print('\\n영화 리뷰 수 : ', len(reviews), '\\n영화 별점 수 : ', len(scores))"
      ]
    },
    {
      "cell_type": "code",
      "execution_count": null,
      "metadata": {
        "colab": {
          "base_uri": "https://localhost:8080/"
        },
        "id": "1viUMLoVqRRy",
        "outputId": "d30e8ccf-1445-409d-b271-e2f31ee6d577"
      },
      "outputs": [
        {
          "name": "stderr",
          "output_type": "stream",
          "text": [
            "/usr/local/lib/python3.7/dist-packages/ipykernel_launcher.py:2: DeprecationWarning: find_elements_by_* commands are deprecated. Please use find_elements() instead\n",
            "  \n",
            "/usr/local/lib/python3.7/dist-packages/selenium/webdriver/remote/webelement.py:446: UserWarning: find_element_by_* commands are deprecated. Please use find_element() instead\n",
            "  warnings.warn(\"find_element_by_* commands are deprecated. Please use find_element() instead\")\n"
          ]
        },
        {
          "name": "stdout",
          "output_type": "stream",
          "text": [
            "10점, 리뷰: 이제야 봤는데, 동양의 윤회사상이 바탕이라 기생충처럼 오스카상은 못받겠지만, 우리 나라 최고의 영화 중의 하나임에는 틀림 없다\n",
            "1점, 리뷰: 아이 구하다가 순직한 소방관에게 어떻게든 지옥 보내려고 안간힘 쓰는 영화\n",
            "8점, 리뷰: 사후 세계를 현대적 느낌과 잘 섞어서 표현한것 같다 #씨9네마\n",
            "10점, 리뷰: 진심으로 천국과 지옥을 오고가며 벌어지는 전생에 관한 이야기!!   너무 보고 싶어요!!!\n",
            "8점, 리뷰: ..\n",
            "10점, 리뷰: .\n",
            "10점, 리뷰: \n",
            "7점, 리뷰: \n",
            "8점, 리뷰: 저승에서 판결하는것 생각하면 대한민국 쓰래기 판사들이 생각나서 화가남. 생각없이 보면 재밌음.\n",
            "10점, 리뷰: 신과 함께 1은 주지훈 땜에 봤다가 김동욱 땜에 울었음ㅠㅠ 2편은 주지훈 하얀삵 연기가 멋졌음^^\n"
          ]
        }
      ],
      "source": [
        "# 리뷰 관련 모든 정보를 가져온다.\n",
        "review_elems = driver.find_elements_by_class_name('cmt_info')\n",
        "\n",
        "ratings = []    # 네티즌 평가 점수\n",
        "comments = []   # 네티즌 리뷰 코멘트\n",
        "\n",
        "\n",
        "try:    \n",
        "    review = WebDriverWait(driver, 20).until(\n",
        "        EC.presence_of_element_located((By.CLASS_NAME, 'desc_txt'))\n",
        "    )   \n",
        "\n",
        "except TimeoutException:  \n",
        "    print('해당 페이지에 리뷰 정보가 존재하지 않습니다.')\n",
        "\n",
        "# 영화 리뷰 관련 모든 정보를 가져와서 리스트에 담는다.\n",
        "for review_elem in review_elems:\n",
        "  \n",
        "  ratings.append(review_elem.find_element_by_class_name('ratings').text)\n",
        "  try:\n",
        "    comments.append(review_elem.find_element_by_class_name('desc_txt').text.replace('\\n', ' '))\n",
        "  except NoSuchElementException:\n",
        "    comments.append('')\n",
        "\n",
        "for i, score in enumerate(ratings):\n",
        "  print(f'{score}점, 리뷰: {comments[i]}')"
      ]
    },
    {
      "cell_type": "code",
      "execution_count": null,
      "metadata": {
        "colab": {
          "base_uri": "https://localhost:8080/"
        },
        "id": "FKAakqsAqRRy",
        "outputId": "e7872756-0fe0-4868-b636-8ac2be55e7e9"
      },
      "outputs": [
        {
          "name": "stdout",
          "output_type": "stream",
          "text": [
            "Unfolding movie review pages:\n",
            "Counting pages...\n",
            "1|2|3|4|5|6|7|8|9|10|11|12|13|14|15|16|17|18|19|20\n",
            "21|22|23|24|25|26|27|28|29|30|31|32|33|34|35|36|37|38|39|40\n",
            "41|42|43|44|45|46|47|48|49|50|51|52|53|54|55|56|57|58|59|60\n",
            "61|62|63|64|65|66|67|68|69|70|71|72|73|74|75|76|77|78|79|80\n",
            "81|82|83|84|85|86|87|88|89|90|91|92|93|94|95|96|97|98|99|100\n",
            "101|102|103|104|105|106|107|108|109|110|111|112|113|114|115|116|117|118|119|120\n",
            "121|122|123|124|125|126|127|128|129|130|131|132|133|134|135|136|137|138|139|140\n",
            "141|142|143|144|145|146|147|148|149|150|151|152|153|154|155|156|157|158|159|160\n",
            "161|162|163|164|165|166|167|168|169|170|171|172|173|174|175|176|177|178|179|180\n",
            "181|182|183|184|185|186|187|188|189|190|191|192|193|194|195|196|197|198|199|200\n",
            "201|202|203|204|205|206|207|208|209|210|211|212|213|214|215|216|217|218|219|220\n",
            "221|222|Done!\n"
          ]
        }
      ],
      "source": [
        "#* 평점 더보기 버튼을 자동으로 눌러 모든 리뷰&별점 가져오기  페이지 클릭\n",
        "\n",
        "print('Unfolding movie review pages:')\n",
        "click = 0  \n",
        "print('Counting pages...')\n",
        "\n",
        "XPATH = '''//*[@id=\"alex-area\"]/div/div/div/div[3]/div[1]/button'''\n",
        "while True:\n",
        "  try: \n",
        "    WebDriverWait(driver, 10).until(EC.presence_of_element_located(\n",
        "      (By.XPATH, XPATH))).click()\n",
        "      \n",
        "    click += 1\n",
        "    print(click) if click % 20 == 0 else print(click, end='|')\n",
        "  except TimeoutException: \n",
        "    print('Done!')\n",
        "    break"
      ]
    },
    {
      "cell_type": "code",
      "execution_count": null,
      "metadata": {
        "colab": {
          "base_uri": "https://localhost:8080/"
        },
        "id": "QKRsNV2DqRRz",
        "outputId": "b90e6fba-afef-48bb-a395-01967ef54a8d"
      },
      "outputs": [
        {
          "name": "stdout",
          "output_type": "stream",
          "text": [
            "Extracting movie reviews...\n"
          ]
        },
        {
          "name": "stderr",
          "output_type": "stream",
          "text": [
            "/usr/local/lib/python3.7/dist-packages/ipykernel_launcher.py:7: DeprecationWarning: find_elements_by_* commands are deprecated. Please use find_elements() instead\n",
            "  import sys\n"
          ]
        },
        {
          "name": "stdout",
          "output_type": "stream",
          "text": [
            "\n",
            "--- Job completed! 총 6,650개의 리뷰 데이터를 수집했습니다. ----------- \n",
            "\n"
          ]
        }
      ],
      "source": [
        "#리뷰수집\n",
        "\n",
        "ratings = []    # 네티즌 평가 점수\n",
        "comments = []   # 네티즌 리뷰 코멘트\n",
        "\n",
        "print('Extracting movie reviews...')\n",
        "review_elems = driver.find_elements_by_class_name('cmt_info')\n",
        "for review_elem in review_elems:\n",
        "\n",
        "  ratings.append(review_elem.find_element(By.CLASS_NAME, 'ratings').text)\n",
        "  try:\n",
        "    comments.append(review_elem.find_element(By.CLASS_NAME, \n",
        "                        'desc_txt').text.replace('\\n', ' '))\n",
        "  except:\n",
        "    comments.append('')\n",
        "else:\n",
        "  print('\\n--- Job completed!', \n",
        "        f'총 {len(review_elems):,}개의 리뷰 데이터를 수집했습니다.', \n",
        "        '-' * 11, '\\n') "
      ]
    },
    {
      "cell_type": "code",
      "execution_count": null,
      "metadata": {
        "colab": {
          "base_uri": "https://localhost:8080/",
          "height": 256
        },
        "id": "DcVihUaVr-Tw",
        "outputId": "183b67b9-47a8-4c21-fbd3-ee6ca81fa0b4"
      },
      "outputs": [
        {
          "name": "stdout",
          "output_type": "stream",
          "text": [
            "총 리뷰 개수.......: 6,650개\n",
            "총 리뷰 평점 개수...: 6,650개\n",
            "10 - 이제야 봤는데, 동양의 윤회사상이 바탕이라 기생충처럼 오스카상은 못받겠지만, 우리 나라 최고의 영화 중의 하나임에는 틀림 없다\n",
            "1 - 아이 구하다가 순직한 소방관에게 어떻게든 지옥 보내려고 안간힘 쓰는 영화\n",
            "8 - 사후 세계를 현대적 느낌과 잘 섞어서 표현한것 같다 #씨9네마\n",
            "10 - 진심으로 천국과 지옥을 오고가며 벌어지는 전생에 관한 이야기!!   너무 보고 싶어요!!!\n",
            "8 - ..\n",
            "10 - .\n",
            "10 - \n",
            "7 - \n",
            "8 - 저승에서 판결하는것 생각하면 대한민국 쓰래기 판사들이 생각나서 화가남. 생각없이 보면 재밌음.\n",
            "10 - 신과 함께 1은 주지훈 땜에 봤다가 김동욱 땜에 울었음ㅠㅠ 2편은 주지훈 하얀삵 연기가 멋졌음^^\n",
            "수집한 데이터를 'movie-reviews_WithAGod.txt'로 저장하였습니다.\n"
          ]
        },
        {
          "data": {
            "application/javascript": [
              "\n",
              "    async function download(id, filename, size) {\n",
              "      if (!google.colab.kernel.accessAllowed) {\n",
              "        return;\n",
              "      }\n",
              "      const div = document.createElement('div');\n",
              "      const label = document.createElement('label');\n",
              "      label.textContent = `Downloading \"${filename}\": `;\n",
              "      div.appendChild(label);\n",
              "      const progress = document.createElement('progress');\n",
              "      progress.max = size;\n",
              "      div.appendChild(progress);\n",
              "      document.body.appendChild(div);\n",
              "\n",
              "      const buffers = [];\n",
              "      let downloaded = 0;\n",
              "\n",
              "      const channel = await google.colab.kernel.comms.open(id);\n",
              "      // Send a message to notify the kernel that we're ready.\n",
              "      channel.send({})\n",
              "\n",
              "      for await (const message of channel.messages) {\n",
              "        // Send a message to notify the kernel that we're ready.\n",
              "        channel.send({})\n",
              "        if (message.buffers) {\n",
              "          for (const buffer of message.buffers) {\n",
              "            buffers.push(buffer);\n",
              "            downloaded += buffer.byteLength;\n",
              "            progress.value = downloaded;\n",
              "          }\n",
              "        }\n",
              "      }\n",
              "      const blob = new Blob(buffers, {type: 'application/binary'});\n",
              "      const a = document.createElement('a');\n",
              "      a.href = window.URL.createObjectURL(blob);\n",
              "      a.download = filename;\n",
              "      div.appendChild(a);\n",
              "      a.click();\n",
              "      div.remove();\n",
              "    }\n",
              "  "
            ],
            "text/plain": [
              "<IPython.core.display.Javascript object>"
            ]
          },
          "metadata": {},
          "output_type": "display_data"
        },
        {
          "data": {
            "application/javascript": [
              "download(\"download_d1faae42-8cd2-4228-92a7-ceaee4dc57dd\", \"movie-reviews_WithAGod.txt\", 675165)"
            ],
            "text/plain": [
              "<IPython.core.display.Javascript object>"
            ]
          },
          "metadata": {},
          "output_type": "display_data"
        }
      ],
      "source": [
        "#리뷰 저장\n",
        "\n",
        "print(f'총 리뷰 개수.......: {len(comments):,}개')\n",
        "print(f'총 리뷰 평점 개수...: {len(ratings):,}개')\n",
        "\n",
        "for i, score in enumerate(ratings[:10]):\n",
        "  print(f'{score} - {comments[i]}')\n",
        "\n",
        "filename_reviews = 'movie-reviews_WithAGod.txt'\n",
        "\n",
        "with open(filename_reviews, mode='w', encoding='utf-8') as file:\n",
        "  for i, score in enumerate(ratings):\n",
        "    file.write(score + '|')           \n",
        "    file.write(comments[i] + '\\n')  \n",
        "      \n",
        "print(f\"수집한 데이터를 '{filename_reviews}'로 저장하였습니다.\")\n",
        "\n",
        "from google.colab import files\n",
        "files.download('movie-reviews_WithAGod.txt')"
      ]
    },
    {
      "cell_type": "code",
      "execution_count": null,
      "metadata": {
        "colab": {
          "base_uri": "https://localhost:8080/",
          "height": 17
        },
        "id": "YezvcnwedVPY",
        "outputId": "3e8130c7-1044-4f54-8afe-ce9e2cb2a21f"
      },
      "outputs": [
        {
          "data": {
            "application/javascript": [
              "\n",
              "    async function download(id, filename, size) {\n",
              "      if (!google.colab.kernel.accessAllowed) {\n",
              "        return;\n",
              "      }\n",
              "      const div = document.createElement('div');\n",
              "      const label = document.createElement('label');\n",
              "      label.textContent = `Downloading \"${filename}\": `;\n",
              "      div.appendChild(label);\n",
              "      const progress = document.createElement('progress');\n",
              "      progress.max = size;\n",
              "      div.appendChild(progress);\n",
              "      document.body.appendChild(div);\n",
              "\n",
              "      const buffers = [];\n",
              "      let downloaded = 0;\n",
              "\n",
              "      const channel = await google.colab.kernel.comms.open(id);\n",
              "      // Send a message to notify the kernel that we're ready.\n",
              "      channel.send({})\n",
              "\n",
              "      for await (const message of channel.messages) {\n",
              "        // Send a message to notify the kernel that we're ready.\n",
              "        channel.send({})\n",
              "        if (message.buffers) {\n",
              "          for (const buffer of message.buffers) {\n",
              "            buffers.push(buffer);\n",
              "            downloaded += buffer.byteLength;\n",
              "            progress.value = downloaded;\n",
              "          }\n",
              "        }\n",
              "      }\n",
              "      const blob = new Blob(buffers, {type: 'application/binary'});\n",
              "      const a = document.createElement('a');\n",
              "      a.href = window.URL.createObjectURL(blob);\n",
              "      a.download = filename;\n",
              "      div.appendChild(a);\n",
              "      a.click();\n",
              "      div.remove();\n",
              "    }\n",
              "  "
            ],
            "text/plain": [
              "<IPython.core.display.Javascript object>"
            ]
          },
          "metadata": {},
          "output_type": "display_data"
        },
        {
          "data": {
            "application/javascript": [
              "download(\"download_89579c1a-2ad1-4eaf-b40c-9b81c2dd1ab3\", \"movie-reviews_WithAGod.csv\", 708493)"
            ],
            "text/plain": [
              "<IPython.core.display.Javascript object>"
            ]
          },
          "metadata": {},
          "output_type": "display_data"
        }
      ],
      "source": [
        "import pandas as pd\n",
        "\n",
        "\n",
        "pd = pd.DataFrame({'ratings':ratings,\n",
        "                             'comments':comments})   #index 지정\n",
        "pd.to_csv(\"movie-reviews_WithAGod.csv\",encoding=\"utf-8-sig\")\n",
        "files.download('movie-reviews_WithAGod.csv')"
      ]
    },
    {
      "cell_type": "markdown",
      "metadata": {
        "id": "2KNFGLafq-Qq"
      },
      "source": [
        "#영화 <국제시장> 리뷰 데이터 수집"
      ]
    },
    {
      "cell_type": "code",
      "execution_count": null,
      "metadata": {
        "id": "O138bfhcq-Qq",
        "colab": {
          "base_uri": "https://localhost:8080/",
          "height": 54
        },
        "outputId": "5da2d0e8-d8d2-4b6a-cea7-c808a376ce7e"
      },
      "outputs": [
        {
          "output_type": "stream",
          "name": "stderr",
          "text": [
            "/usr/local/lib/python3.7/dist-packages/ipykernel_launcher.py:25: DeprecationWarning: find_element_by_* commands are deprecated. Please use find_element() instead\n"
          ]
        },
        {
          "output_type": "execute_result",
          "data": {
            "application/vnd.google.colaboratory.intrinsic+json": {
              "type": "string"
            },
            "text/plain": [
              "'영화 보고 느꼈습니다.\\n70대 이상 어르신들이  \\n대한민국을 있게 해주셨다는 것을... \\n\\n근데 종로 앞에서 태극기 부대만 안하시면 얼마나 좋을까요?'"
            ]
          },
          "metadata": {},
          "execution_count": 5
        }
      ],
      "source": [
        "#코드 출처:최민주 \n",
        "\n",
        "\n",
        "\n",
        "movie_id = '76872'\n",
        "URL = 'https://movie.daum.net/moviedb/grade?movieId=' + movie_id\n",
        "\n",
        "driver.get(URL)\n",
        "\n",
        "# html = driver.page_source\n",
        "# soup = BeautifulSoup(html,\"html.parser\")\n",
        "\n",
        "\n",
        "#파싱을 다 하기 전에 코드가 넘어가버리는 경우를 막기위해 WebDriverWait 사용 \n",
        "try:  \n",
        "    #  element가 로딩될 때 까지 10초 대기 \n",
        "    review = WebDriverWait(driver, 10).until(\n",
        "        EC.presence_of_element_located((By.CLASS_NAME, 'desc_txt'))\n",
        "    )    \n",
        "\n",
        "except TimeoutException:    \n",
        "    ## 엘리먼트 로딩 실패 시에는 에러메시지 출력 \n",
        "    print('해당 페이지에 리뷰 정보가 존재하지 않습니다.')\n",
        "\n",
        "review = driver.find_element_by_class_name('desc_txt')\n",
        "\n",
        "review.text"
      ]
    },
    {
      "cell_type": "code",
      "execution_count": null,
      "metadata": {
        "colab": {
          "base_uri": "https://localhost:8080/"
        },
        "id": "3xR713UVq-Qq",
        "outputId": "2d4a48a6-c62f-47a1-db6b-339ac28eabc2"
      },
      "outputs": [
        {
          "name": "stderr",
          "output_type": "stream",
          "text": [
            "/usr/local/lib/python3.7/dist-packages/ipykernel_launcher.py:3: DeprecationWarning: find_elements_by_* commands are deprecated. Please use find_elements() instead\n",
            "  This is separate from the ipykernel package so we can avoid doing imports until\n",
            "/usr/local/lib/python3.7/dist-packages/ipykernel_launcher.py:4: DeprecationWarning: find_elements_by_* commands are deprecated. Please use find_elements() instead\n",
            "  after removing the cwd from sys.path.\n"
          ]
        },
        {
          "name": "stdout",
          "output_type": "stream",
          "text": [
            ">> 영화 보고 느꼈습니다. 70대 이상 어르신들이   대한민국을 있게 해주셨다는 것을...   근데 종로 앞에서 태극기 부대만 안하시면 얼마나 좋을까요?\n",
            ">> 이 영화에 좌파 우파가 어디 있나? 나는 영화 변호인도 감동이고 이 영화도 보면서 엄청 울었을 정도로 감동입니다. 여기서 정치 얘기 안 하셨음 좋겠습니다~~\n",
            ">> 우리들의 안녕을 위해 그저 눈감고 꾹 참아온 아버지의 모습을 잘 담아낸 작품\n",
            ">> 박근혜때 박정희 미화영화라고해서 안봤다. ocn에서 방영하기에 봤는데 어떤개넘이  박정희 미화영화라고 했냐 썩을넘 그때 시대배경도 잘 표현했고 연기도 좋았다. 하여간에 선동하는 놈들이 문제야.\n",
            ">> 수고하셨어요  그시대 아버지모두\n",
            ">> 전 국민이 봐야 할 시대극.\n",
            ">> 할아버지,할머니 세대들의 고난과 아픔을 이겨내는 모습을 보며 가슴뭉클하고 저절로 존경심이 들었습니다. 덕분에 저희가 이런 세상에 살 수 있었네요. 그 분들의 노고에 깊은 고마움을 느낍니다.\n",
            ">> 1950년 6.25 전쟁과 월남전쟁과 고생하면서 오신 우리 할아버지와 할머니 감사합니다.  믿음의 선배들이 계셔서 오늘 우리나라가 다른 나라에서도 기죽지 않는  주눅들지 않는 나라가 되었습니다. 감사합니다. 고난의 역사 아픔의 역사  잊지 않겠습니다. 후손들에게 바른 역사를 가르쳐서 부끄럽지 않은 후손들로 보살피겠습니다. 감사합니다. \n",
            ">> 눈물이 아니 나올 수 없었다.\n",
            ">> OCN  에서 지금보고있음. 몰입도 짱. 보면서  눈물 너무 많이 흘림..\n",
            "10점, 10점, 10점, 10점, 9점, 10점, 10점, 10점, 10점, 10점, "
          ]
        }
      ],
      "source": [
        "#한페이지 전체 가져오기 \n",
        "\n",
        "reviews = driver.find_elements_by_class_name('desc_txt')\n",
        "scores = driver.find_elements_by_class_name('ratings')\n",
        "\n",
        "for review in reviews:\n",
        "  print('>>', review.text.replace('\\n', ' '))\n",
        "\n",
        "for score in scores:\n",
        "  print(score.text, end='점, ')\n"
      ]
    },
    {
      "cell_type": "code",
      "execution_count": null,
      "metadata": {
        "colab": {
          "base_uri": "https://localhost:8080/"
        },
        "id": "DHtwXG_Fq-Qr",
        "outputId": "d8fe1179-321d-44b0-a81d-e07cb4026f31"
      },
      "outputs": [
        {
          "name": "stdout",
          "output_type": "stream",
          "text": [
            "\n",
            "영화 리뷰 수 :  10 \n",
            "영화 별점 수 :  10\n"
          ]
        }
      ],
      "source": [
        "#리뷰의 수와 별점의 수가 동일한지 확인하기\n",
        "\n",
        "print('\\n영화 리뷰 수 : ', len(reviews), '\\n영화 별점 수 : ', len(scores))"
      ]
    },
    {
      "cell_type": "code",
      "execution_count": null,
      "metadata": {
        "colab": {
          "base_uri": "https://localhost:8080/"
        },
        "id": "wA-ZfAUQq-Qr",
        "outputId": "35623682-4186-4339-c291-9fb5e2f9691d"
      },
      "outputs": [
        {
          "output_type": "stream",
          "name": "stderr",
          "text": [
            "/usr/local/lib/python3.7/dist-packages/ipykernel_launcher.py:2: DeprecationWarning: find_elements_by_* commands are deprecated. Please use find_elements() instead\n",
            "  \n",
            "/usr/local/lib/python3.7/dist-packages/selenium/webdriver/remote/webelement.py:446: UserWarning: find_element_by_* commands are deprecated. Please use find_element() instead\n",
            "  warnings.warn(\"find_element_by_* commands are deprecated. Please use find_element() instead\")\n"
          ]
        },
        {
          "output_type": "stream",
          "name": "stdout",
          "text": [
            "10점, 리뷰: 영화 보고 느꼈습니다. 70대 이상 어르신들이   대한민국을 있게 해주셨다는 것을...   근데 종로 앞에서 태극기 부대만 안하시면 얼마나 좋을까요?\n",
            "10점, 리뷰: 이 영화에 좌파 우파가 어디 있나? 나는 영화 변호인도 감동이고 이 영화도 보면서 엄청 울었을 정도로 감동입니다. 여기서 정치 얘기 안 하셨음 좋겠습니다~~\n",
            "10점, 리뷰: 우리들의 안녕을 위해 그저 눈감고 꾹 참아온 아버지의 모습을 잘 담아낸 작품\n",
            "10점, 리뷰: 박근혜때 박정희 미화영화라고해서 안봤다. ocn에서 방영하기에 봤는데 어떤개넘이  박정희 미화영화라고 했냐 썩을넘 그때 시대배경도 잘 표현했고 연기도 좋았다. 하여간에 선동하는 놈들이 문제야.\n",
            "9점, 리뷰: 수고하셨어요  그시대 아버지모두\n",
            "10점, 리뷰: 전 국민이 봐야 할 시대극.\n",
            "10점, 리뷰: 할아버지,할머니 세대들의 고난과 아픔을 이겨내는 모습을 보며 가슴뭉클하고 저절로 존경심이 들었습니다. 덕분에 저희가 이런 세상에 살 수 있었네요. 그 분들의 노고에 깊은 고마움을 느낍니다.\n",
            "10점, 리뷰: 1950년 6.25 전쟁과 월남전쟁과 고생하면서 오신 우리 할아버지와 할머니 감사합니다.  믿음의 선배들이 계셔서 오늘 우리나라가 다른 나라에서도 기죽지 않는  주눅들지 않는 나라가 되었습니다. 감사합니다. 고난의 역사 아픔의 역사  잊지 않겠습니다. 후손들에게 바른 역사를 가르쳐서 부끄럽지 않은 후손들로 보살피겠습니다. 감사합니다. \n",
            "10점, 리뷰: 눈물이 아니 나올 수 없었다.\n",
            "10점, 리뷰: OCN  에서 지금보고있음. 몰입도 짱. 보면서  눈물 너무 많이 흘림..\n"
          ]
        }
      ],
      "source": [
        "# 리뷰 관련 모든 정보를 가져온다.\n",
        "review_elems = driver.find_elements_by_class_name('cmt_info')\n",
        "\n",
        "ratings = []    # 네티즌 평가 점수\n",
        "comments = []   # 네티즌 리뷰 코멘트\n",
        "\n",
        "\n",
        "try:    \n",
        "    review = WebDriverWait(driver, 20).until(\n",
        "        EC.presence_of_element_located((By.CLASS_NAME, 'desc_txt'))\n",
        "    )   \n",
        "\n",
        "except TimeoutException:  \n",
        "    print('해당 페이지에 리뷰 정보가 존재하지 않습니다.')\n",
        "\n",
        "# 영화 리뷰 관련 모든 정보를 가져와서 리스트에 담는다.\n",
        "for review_elem in review_elems:\n",
        "  \n",
        "  ratings.append(review_elem.find_element_by_class_name('ratings').text)\n",
        "  try:\n",
        "    comments.append(review_elem.find_element_by_class_name('desc_txt').text.replace('\\n', ' '))\n",
        "  except NoSuchElementException:\n",
        "    comments.append('')\n",
        "\n",
        "for i, score in enumerate(ratings):\n",
        "  print(f'{score}점, 리뷰: {comments[i]}')"
      ]
    },
    {
      "cell_type": "code",
      "execution_count": null,
      "metadata": {
        "colab": {
          "base_uri": "https://localhost:8080/"
        },
        "id": "lbtoiL3pq-Qr",
        "outputId": "182d3410-a895-4eff-aa9a-2471d730e394"
      },
      "outputs": [
        {
          "output_type": "stream",
          "name": "stdout",
          "text": [
            "Unfolding movie review pages:\n",
            "Counting pages...\n",
            "1|2|3|4|5|6|7|8|9|10|11|12|13|14|15|16|17|18|19|20\n",
            "21|22|23|24|25|26|27|28|29|30|31|32|33|34|35|36|37|38|39|40\n",
            "41|42|43|44|45|46|47|48|49|50|51|52|53|54|55|56|57|58|59|60\n",
            "61|62|63|64|65|66|67|68|69|70|71|72|73|74|75|76|77|78|79|80\n",
            "81|82|83|84|85|86|87|88|89|90|91|92|93|94|95|96|97|98|99|100\n",
            "101|102|103|104|105|106|107|108|109|110|111|112|113|114|115|116|117|118|119|120\n",
            "121|122|123|124|125|126|127|128|129|130|131|132|133|134|135|136|137|138|139|140\n",
            "141|142|143|144|145|146|147|148|149|150|151|152|153|154|155|156|157|158|159|160\n",
            "161|162|163|164|165|166|167|168|169|170|171|172|173|174|175|176|177|178|179|180\n",
            "181|182|183|184|185|186|187|188|189|190|191|192|193|194|195|196|197|198|199|200\n",
            "201|202|203|204|205|206|207|208|209|210|211|212|Done!\n"
          ]
        }
      ],
      "source": [
        "#* 평점 더보기 버튼을 자동으로 눌러 모든 리뷰&별점 가져오기  페이지 클릭\n",
        "\n",
        "print('Unfolding movie review pages:')\n",
        "click = 0  \n",
        "print('Counting pages...')\n",
        "\n",
        "XPATH = '''//*[@id=\"alex-area\"]/div/div/div/div[3]/div[1]/button'''\n",
        "while True:\n",
        "  try: \n",
        "    WebDriverWait(driver, 10).until(EC.presence_of_element_located(\n",
        "      (By.XPATH, XPATH))).click()\n",
        "      \n",
        "    click += 1\n",
        "    print(click) if click % 20 == 0 else print(click, end='|')\n",
        "  except TimeoutException: \n",
        "    print('Done!')\n",
        "    break"
      ]
    },
    {
      "cell_type": "code",
      "execution_count": null,
      "metadata": {
        "colab": {
          "base_uri": "https://localhost:8080/"
        },
        "id": "2CjFzWjnq-Qr",
        "outputId": "56009a08-b264-40c6-bf36-073b0c6fc850"
      },
      "outputs": [
        {
          "output_type": "stream",
          "name": "stdout",
          "text": [
            "Extracting movie reviews...\n"
          ]
        },
        {
          "output_type": "stream",
          "name": "stderr",
          "text": [
            "/usr/local/lib/python3.7/dist-packages/ipykernel_launcher.py:7: DeprecationWarning: find_elements_by_* commands are deprecated. Please use find_elements() instead\n",
            "  import sys\n"
          ]
        },
        {
          "output_type": "stream",
          "name": "stdout",
          "text": [
            "\n",
            "--- Job completed! 총 6,369개의 리뷰 데이터를 수집했습니다. ----------- \n",
            "\n"
          ]
        }
      ],
      "source": [
        "#리뷰수집\n",
        "\n",
        "ratings = []    # 네티즌 평가 점수\n",
        "comments = []   # 네티즌 리뷰 코멘트\n",
        "\n",
        "print('Extracting movie reviews...')\n",
        "review_elems = driver.find_elements_by_class_name('cmt_info')\n",
        "for review_elem in review_elems:\n",
        "\n",
        "  ratings.append(review_elem.find_element(By.CLASS_NAME, 'ratings').text)\n",
        "  try:\n",
        "    comments.append(review_elem.find_element(By.CLASS_NAME, \n",
        "                        'desc_txt').text.replace('\\n', ' '))\n",
        "  except:\n",
        "    comments.append('')\n",
        "else:\n",
        "  print('\\n--- Job completed!', \n",
        "        f'총 {len(review_elems):,}개의 리뷰 데이터를 수집했습니다.', \n",
        "        '-' * 11, '\\n') "
      ]
    },
    {
      "cell_type": "code",
      "execution_count": null,
      "metadata": {
        "colab": {
          "base_uri": "https://localhost:8080/",
          "height": 276
        },
        "id": "QHR-tC77sLNk",
        "outputId": "4677a407-cab7-4aab-99fe-372c21cb2ddd"
      },
      "outputs": [
        {
          "output_type": "stream",
          "name": "stdout",
          "text": [
            "총 리뷰 개수.......: 6,369개\n",
            "총 리뷰 평점 개수...: 6,369개\n",
            "10 - 영화 보고 느꼈습니다. 70대 이상 어르신들이   대한민국을 있게 해주셨다는 것을...   근데 종로 앞에서 태극기 부대만 안하시면 얼마나 좋을까요?\n",
            "10 - 이 영화에 좌파 우파가 어디 있나? 나는 영화 변호인도 감동이고 이 영화도 보면서 엄청 울었을 정도로 감동입니다. 여기서 정치 얘기 안 하셨음 좋겠습니다~~\n",
            "10 - 우리들의 안녕을 위해 그저 눈감고 꾹 참아온 아버지의 모습을 잘 담아낸 작품\n",
            "10 - 박근혜때 박정희 미화영화라고해서 안봤다. ocn에서 방영하기에 봤는데 어떤개넘이  박정희 미화영화라고 했냐 썩을넘 그때 시대배경도 잘 표현했고 연기도 좋았다. 하여간에 선동하는 놈들이 문제야.\n",
            "9 - 수고하셨어요  그시대 아버지모두\n",
            "10 - 전 국민이 봐야 할 시대극.\n",
            "10 - 할아버지,할머니 세대들의 고난과 아픔을 이겨내는 모습을 보며 가슴뭉클하고 저절로 존경심이 들었습니다. 덕분에 저희가 이런 세상에 살 수 있었네요. 그 분들의 노고에 깊은 고마움을 느낍니다.\n",
            "10 - 1950년 6.25 전쟁과 월남전쟁과 고생하면서 오신 우리 할아버지와 할머니 감사합니다.  믿음의 선배들이 계셔서 오늘 우리나라가 다른 나라에서도 기죽지 않는  주눅들지 않는 나라가 되었습니다. 감사합니다. 고난의 역사 아픔의 역사  잊지 않겠습니다. 후손들에게 바른 역사를 가르쳐서 부끄럽지 않은 후손들로 보살피겠습니다. 감사합니다. \n",
            "10 - 눈물이 아니 나올 수 없었다.\n",
            "10 - OCN  에서 지금보고있음. 몰입도 짱. 보면서  눈물 너무 많이 흘림..\n",
            "수집한 데이터를 'movie-reviews_globlaMarkert.txt'로 저장하였습니다.\n"
          ]
        },
        {
          "output_type": "display_data",
          "data": {
            "application/javascript": [
              "\n",
              "    async function download(id, filename, size) {\n",
              "      if (!google.colab.kernel.accessAllowed) {\n",
              "        return;\n",
              "      }\n",
              "      const div = document.createElement('div');\n",
              "      const label = document.createElement('label');\n",
              "      label.textContent = `Downloading \"${filename}\": `;\n",
              "      div.appendChild(label);\n",
              "      const progress = document.createElement('progress');\n",
              "      progress.max = size;\n",
              "      div.appendChild(progress);\n",
              "      document.body.appendChild(div);\n",
              "\n",
              "      const buffers = [];\n",
              "      let downloaded = 0;\n",
              "\n",
              "      const channel = await google.colab.kernel.comms.open(id);\n",
              "      // Send a message to notify the kernel that we're ready.\n",
              "      channel.send({})\n",
              "\n",
              "      for await (const message of channel.messages) {\n",
              "        // Send a message to notify the kernel that we're ready.\n",
              "        channel.send({})\n",
              "        if (message.buffers) {\n",
              "          for (const buffer of message.buffers) {\n",
              "            buffers.push(buffer);\n",
              "            downloaded += buffer.byteLength;\n",
              "            progress.value = downloaded;\n",
              "          }\n",
              "        }\n",
              "      }\n",
              "      const blob = new Blob(buffers, {type: 'application/binary'});\n",
              "      const a = document.createElement('a');\n",
              "      a.href = window.URL.createObjectURL(blob);\n",
              "      a.download = filename;\n",
              "      div.appendChild(a);\n",
              "      a.click();\n",
              "      div.remove();\n",
              "    }\n",
              "  "
            ],
            "text/plain": [
              "<IPython.core.display.Javascript object>"
            ]
          },
          "metadata": {}
        },
        {
          "output_type": "display_data",
          "data": {
            "application/javascript": [
              "download(\"download_22d0fc22-7e6d-4b15-8c8a-e5e674124529\", \"movie-reviews_globlaMarkert.txt\", 842384)"
            ],
            "text/plain": [
              "<IPython.core.display.Javascript object>"
            ]
          },
          "metadata": {}
        }
      ],
      "source": [
        "#리뷰 저장\n",
        "\n",
        "print(f'총 리뷰 개수.......: {len(comments):,}개')\n",
        "print(f'총 리뷰 평점 개수...: {len(ratings):,}개')\n",
        "\n",
        "for i, score in enumerate(ratings[:10]):\n",
        "  print(f'{score} - {comments[i]}')\n",
        "\n",
        "filename_reviews = 'movie-reviews_globlaMarkert.txt'\n",
        "\n",
        "with open(filename_reviews, mode='w', encoding='utf-8') as file:\n",
        "  for i, score in enumerate(ratings):\n",
        "    file.write(score + '|')           \n",
        "    file.write(comments[i] + '\\n')  \n",
        "      \n",
        "print(f\"수집한 데이터를 '{filename_reviews}'로 저장하였습니다.\")\n",
        "\n",
        "from google.colab import files\n",
        "files.download('movie-reviews_globlaMarkert.txt')"
      ]
    },
    {
      "cell_type": "code",
      "execution_count": null,
      "metadata": {
        "colab": {
          "base_uri": "https://localhost:8080/",
          "height": 17
        },
        "id": "s2un4DXHk2_E",
        "outputId": "08243a1a-4d31-45cc-f85a-7249295a74e4"
      },
      "outputs": [
        {
          "output_type": "display_data",
          "data": {
            "application/javascript": [
              "\n",
              "    async function download(id, filename, size) {\n",
              "      if (!google.colab.kernel.accessAllowed) {\n",
              "        return;\n",
              "      }\n",
              "      const div = document.createElement('div');\n",
              "      const label = document.createElement('label');\n",
              "      label.textContent = `Downloading \"${filename}\": `;\n",
              "      div.appendChild(label);\n",
              "      const progress = document.createElement('progress');\n",
              "      progress.max = size;\n",
              "      div.appendChild(progress);\n",
              "      document.body.appendChild(div);\n",
              "\n",
              "      const buffers = [];\n",
              "      let downloaded = 0;\n",
              "\n",
              "      const channel = await google.colab.kernel.comms.open(id);\n",
              "      // Send a message to notify the kernel that we're ready.\n",
              "      channel.send({})\n",
              "\n",
              "      for await (const message of channel.messages) {\n",
              "        // Send a message to notify the kernel that we're ready.\n",
              "        channel.send({})\n",
              "        if (message.buffers) {\n",
              "          for (const buffer of message.buffers) {\n",
              "            buffers.push(buffer);\n",
              "            downloaded += buffer.byteLength;\n",
              "            progress.value = downloaded;\n",
              "          }\n",
              "        }\n",
              "      }\n",
              "      const blob = new Blob(buffers, {type: 'application/binary'});\n",
              "      const a = document.createElement('a');\n",
              "      a.href = window.URL.createObjectURL(blob);\n",
              "      a.download = filename;\n",
              "      div.appendChild(a);\n",
              "      a.click();\n",
              "      div.remove();\n",
              "    }\n",
              "  "
            ],
            "text/plain": [
              "<IPython.core.display.Javascript object>"
            ]
          },
          "metadata": {}
        },
        {
          "output_type": "display_data",
          "data": {
            "application/javascript": [
              "download(\"download_8febd465-a216-4773-a542-f8e67dbd5bbe\", \"movie-reviews_globlaMarkert.csv\", 874965)"
            ],
            "text/plain": [
              "<IPython.core.display.Javascript object>"
            ]
          },
          "metadata": {}
        }
      ],
      "source": [
        "import pandas as pd\n",
        "\n",
        "\n",
        "pd = pd.DataFrame({'ratings':ratings,\n",
        "                             'comments':comments})   #index 지정\n",
        "pd.to_csv(\"movie-reviews_globlaMarkert.csv\",encoding=\"utf-8-sig\")\n",
        "files.download('movie-reviews_globlaMarkert.csv')"
      ]
    },
    {
      "cell_type": "markdown",
      "metadata": {
        "id": "68SKdsfHrCpK"
      },
      "source": [
        "#영화 <어벤져스> 리뷰 데이터 수집"
      ]
    },
    {
      "cell_type": "code",
      "execution_count": null,
      "metadata": {
        "colab": {
          "base_uri": "https://localhost:8080/",
          "height": 54
        },
        "id": "cbpN5tKirCpL",
        "outputId": "e205dbbd-1d5c-4799-ab45-c4f13311817f"
      },
      "outputs": [
        {
          "output_type": "stream",
          "name": "stderr",
          "text": [
            "/usr/local/lib/python3.7/dist-packages/ipykernel_launcher.py:25: DeprecationWarning: find_element_by_* commands are deprecated. Please use find_element() instead\n"
          ]
        },
        {
          "output_type": "execute_result",
          "data": {
            "application/vnd.google.colaboratory.intrinsic+json": {
              "type": "string"
            },
            "text/plain": [
              "'마블 영화의 마지막 종지부를 찍는 영화다. 가슴 웅장해지는거 ㄹㅇ 실화냐... 마블은 ㄹㅇ 전설이다... 그 찐따 같던 마블영웅들 맞냐.. 강해진 모습보니 내가 다 감격스럽고 너무 좋았다...'"
            ]
          },
          "metadata": {},
          "execution_count": 11
        }
      ],
      "source": [
        "#코드 출처:최민주 \n",
        "\n",
        "\n",
        "\n",
        "movie_id = '93252'\n",
        "URL = 'https://movie.daum.net/moviedb/grade?movieId=' + movie_id\n",
        "\n",
        "driver.get(URL)\n",
        "\n",
        "# html = driver.page_source\n",
        "# soup = BeautifulSoup(html,\"html.parser\")\n",
        "\n",
        "\n",
        "#파싱을 다 하기 전에 코드가 넘어가버리는 경우를 막기위해 WebDriverWait 사용 \n",
        "try:  \n",
        "    #  element가 로딩될 때 까지 10초 대기 \n",
        "    review = WebDriverWait(driver, 10).until(\n",
        "        EC.presence_of_element_located((By.CLASS_NAME, 'desc_txt'))\n",
        "    )    \n",
        "\n",
        "except TimeoutException:    \n",
        "    ## 엘리먼트 로딩 실패 시에는 에러메시지 출력 \n",
        "    print('해당 페이지에 리뷰 정보가 존재하지 않습니다.')\n",
        "\n",
        "review = driver.find_element_by_class_name('desc_txt')\n",
        "\n",
        "review.text"
      ]
    },
    {
      "cell_type": "code",
      "execution_count": null,
      "metadata": {
        "colab": {
          "background_save": true
        },
        "id": "EBbF2PEsrCpL",
        "outputId": "adc70267-2fe4-4b14-9d5a-7a707e1d0a93"
      },
      "outputs": [
        {
          "name": "stderr",
          "output_type": "stream",
          "text": [
            "/usr/local/lib/python3.7/dist-packages/ipykernel_launcher.py:3: DeprecationWarning: find_elements_by_* commands are deprecated. Please use find_elements() instead\n",
            "  This is separate from the ipykernel package so we can avoid doing imports until\n",
            "/usr/local/lib/python3.7/dist-packages/ipykernel_launcher.py:4: DeprecationWarning: find_elements_by_* commands are deprecated. Please use find_elements() instead\n",
            "  after removing the cwd from sys.path.\n"
          ]
        },
        {
          "name": "stdout",
          "output_type": "stream",
          "text": [
            ">> 마블 영화의 마지막 종지부를 찍는 영화다. 가슴 웅장해지는거 ㄹㅇ 실화냐... 마블은 ㄹㅇ 전설이다... 그 찐따 같던 마블영웅들 맞냐.. 강해진 모습보니 내가 다 감격스럽고 너무 좋았다...\n",
            ">> 재미있다, 잘 만들었다. 더 이상 어쩌라구!\n",
            ">> 마무리까지 완벽했다 그 전 인피니티워의 감동과 대적할만한 내 인생 히어로물 희대의 명작 중 하나!!\n",
            ">> 마지막에 아이언맨이 죽어서 슬픔ㅠㅠ\n",
            ">> 댓글봐라 그냥 10점주면 될것을 니들이 영화를 평가할 수준이 되냐 역겨운것들아!!!\n",
            ">> 진짜 다음 영화 억까질 하는거 개역겹네 아주 주댕이로는 유명 영화평론가 납셨지 아주 ㅋㅋㅋㅋㅋ\n",
            ">> 와 너무 재밌어 시간 가는줄 모르고 봤네요\n",
            ">> 울었다. 너무 슬프다. \n",
            ">> 한마디만 할게요  \"재미있다\"\n",
            ">> 엔드게임리얼후기https://miteri.tistory.com/m/77  토니스타크의 인생명작 \n",
            "10점, 10점, 10점, 10점, 10점, 10점, 9점, 10점, 10점, 10점, "
          ]
        }
      ],
      "source": [
        "#한페이지 전체 가져오기 \n",
        "\n",
        "reviews = driver.find_elements_by_class_name('desc_txt')\n",
        "scores = driver.find_elements_by_class_name('ratings')\n",
        "\n",
        "for review in reviews:\n",
        "  print('>>', review.text.replace('\\n', ' '))\n",
        "\n",
        "for score in scores:\n",
        "  print(score.text, end='점, ')\n"
      ]
    },
    {
      "cell_type": "code",
      "execution_count": null,
      "metadata": {
        "colab": {
          "background_save": true
        },
        "id": "bdojP0LmrCpM",
        "outputId": "89a3e88c-c302-4689-bc81-de9ea6c3338b"
      },
      "outputs": [
        {
          "name": "stdout",
          "output_type": "stream",
          "text": [
            "\n",
            "영화 리뷰 수 :  10 \n",
            "영화 별점 수 :  10\n"
          ]
        }
      ],
      "source": [
        "#리뷰의 수와 별점의 수가 동일한지 확인하기\n",
        "\n",
        "print('\\n영화 리뷰 수 : ', len(reviews), '\\n영화 별점 수 : ', len(scores))"
      ]
    },
    {
      "cell_type": "code",
      "execution_count": null,
      "metadata": {
        "colab": {
          "base_uri": "https://localhost:8080/"
        },
        "id": "DPf4i5tArCpM",
        "outputId": "ba057579-edfb-44c1-814a-fb9e3517440c"
      },
      "outputs": [
        {
          "output_type": "stream",
          "name": "stderr",
          "text": [
            "/usr/local/lib/python3.7/dist-packages/ipykernel_launcher.py:2: DeprecationWarning: find_elements_by_* commands are deprecated. Please use find_elements() instead\n",
            "  \n",
            "/usr/local/lib/python3.7/dist-packages/selenium/webdriver/remote/webelement.py:446: UserWarning: find_element_by_* commands are deprecated. Please use find_element() instead\n",
            "  warnings.warn(\"find_element_by_* commands are deprecated. Please use find_element() instead\")\n"
          ]
        },
        {
          "output_type": "stream",
          "name": "stdout",
          "text": [
            "10점, 리뷰: 마블 영화의 마지막 종지부를 찍는 영화다. 가슴 웅장해지는거 ㄹㅇ 실화냐... 마블은 ㄹㅇ 전설이다... 그 찐따 같던 마블영웅들 맞냐.. 강해진 모습보니 내가 다 감격스럽고 너무 좋았다...\n",
            "10점, 리뷰: 재미있다, 잘 만들었다. 더 이상 어쩌라구!\n",
            "10점, 리뷰: 마무리까지 완벽했다 그 전 인피니티워의 감동과 대적할만한 내 인생 히어로물 희대의 명작 중 하나!!\n",
            "10점, 리뷰: 마지막에 아이언맨이 죽어서 슬픔ㅠㅠ\n",
            "10점, 리뷰: 댓글봐라 그냥 10점주면 될것을 니들이 영화를 평가할 수준이 되냐 역겨운것들아!!!\n",
            "10점, 리뷰: 진짜 다음 영화 억까질 하는거 개역겹네 아주 주댕이로는 유명 영화평론가 납셨지 아주 ㅋㅋㅋㅋㅋ\n",
            "9점, 리뷰: 와 너무 재밌어 시간 가는줄 모르고 봤네요\n",
            "10점, 리뷰: 울었다. 너무 슬프다. \n",
            "10점, 리뷰: 한마디만 할게요  \"재미있다\"\n",
            "10점, 리뷰: 엔드게임리얼후기https://miteri.tistory.com/m/77  토니스타크의 인생명작 \n"
          ]
        }
      ],
      "source": [
        "# 리뷰 관련 모든 정보를 가져온다.\n",
        "review_elems = driver.find_elements_by_class_name('cmt_info')\n",
        "\n",
        "ratings = []    # 네티즌 평가 점수\n",
        "comments = []   # 네티즌 리뷰 코멘트\n",
        "\n",
        "\n",
        "try:    \n",
        "    review = WebDriverWait(driver, 20).until(\n",
        "        EC.presence_of_element_located((By.CLASS_NAME, 'desc_txt'))\n",
        "    )   \n",
        "\n",
        "except TimeoutException:  \n",
        "    print('해당 페이지에 리뷰 정보가 존재하지 않습니다.')\n",
        "\n",
        "# 영화 리뷰 관련 모든 정보를 가져와서 리스트에 담는다.\n",
        "for review_elem in review_elems:\n",
        "  \n",
        "  ratings.append(review_elem.find_element_by_class_name('ratings').text)\n",
        "  try:\n",
        "    comments.append(review_elem.find_element_by_class_name('desc_txt').text.replace('\\n', ' '))\n",
        "  except NoSuchElementException:\n",
        "    comments.append('')\n",
        "\n",
        "for i, score in enumerate(ratings):\n",
        "  print(f'{score}점, 리뷰: {comments[i]}')"
      ]
    },
    {
      "cell_type": "code",
      "execution_count": null,
      "metadata": {
        "colab": {
          "base_uri": "https://localhost:8080/"
        },
        "id": "skKm5VQ9rCpM",
        "outputId": "11ae4b19-093f-4502-9c0e-ebf8aa496cb3"
      },
      "outputs": [
        {
          "output_type": "stream",
          "name": "stdout",
          "text": [
            "Unfolding movie review pages:\n",
            "Counting pages...\n",
            "1|2|3|4|5|6|7|8|9|10|11|12|13|14|15|16|17|18|19|20\n",
            "21|22|23|24|25|26|27|28|29|30|31|32|33|34|35|36|37|38|39|40\n",
            "41|42|43|44|45|46|47|48|49|50|51|52|53|54|55|56|57|58|59|60\n",
            "61|62|63|64|65|66|67|68|69|70|71|72|73|74|75|76|77|78|79|80\n",
            "81|82|83|84|85|86|87|88|89|90|91|92|93|94|95|96|97|98|99|100\n",
            "101|102|103|104|105|106|107|108|109|110|111|112|113|114|115|116|117|118|119|120\n",
            "121|122|123|124|125|126|127|128|129|130|131|132|133|134|135|136|137|138|139|140\n",
            "141|142|143|144|145|146|147|148|149|150|151|152|153|154|155|Done!\n"
          ]
        }
      ],
      "source": [
        "#* 평점 더보기 버튼을 자동으로 눌러 모든 리뷰&별점 가져오기  페이지 클릭\n",
        "\n",
        "print('Unfolding movie review pages:')\n",
        "click = 0  \n",
        "print('Counting pages...')\n",
        "\n",
        "XPATH = '''//*[@id=\"alex-area\"]/div/div/div/div[3]/div[1]/button'''\n",
        "while True:\n",
        "  try: \n",
        "    WebDriverWait(driver, 10).until(EC.presence_of_element_located(\n",
        "      (By.XPATH, XPATH))).click()\n",
        "      \n",
        "    click += 1\n",
        "    print(click) if click % 20 == 0 else print(click, end='|')\n",
        "  except TimeoutException: \n",
        "    print('Done!')\n",
        "    break"
      ]
    },
    {
      "cell_type": "code",
      "execution_count": null,
      "metadata": {
        "id": "Zdg4suxrrCpM",
        "outputId": "d58c33b2-1817-4764-e0e2-c199de83422a",
        "colab": {
          "base_uri": "https://localhost:8080/"
        }
      },
      "outputs": [
        {
          "output_type": "stream",
          "name": "stdout",
          "text": [
            "Extracting movie reviews...\n"
          ]
        },
        {
          "output_type": "stream",
          "name": "stderr",
          "text": [
            "/usr/local/lib/python3.7/dist-packages/ipykernel_launcher.py:7: DeprecationWarning: find_elements_by_* commands are deprecated. Please use find_elements() instead\n",
            "  import sys\n"
          ]
        },
        {
          "output_type": "stream",
          "name": "stdout",
          "text": [
            "\n",
            "--- Job completed! 총 4,654개의 리뷰 데이터를 수집했습니다. ----------- \n",
            "\n"
          ]
        }
      ],
      "source": [
        "#리뷰수집\n",
        "\n",
        "ratings = []    # 네티즌 평가 점수\n",
        "comments = []   # 네티즌 리뷰 코멘트\n",
        "\n",
        "print('Extracting movie reviews...')\n",
        "review_elems = driver.find_elements_by_class_name('cmt_info')\n",
        "for review_elem in review_elems:\n",
        "\n",
        "  ratings.append(review_elem.find_element(By.CLASS_NAME, 'ratings').text)\n",
        "  try:\n",
        "    comments.append(review_elem.find_element(By.CLASS_NAME, \n",
        "                        'desc_txt').text.replace('\\n', ' '))\n",
        "  except:\n",
        "    comments.append('')\n",
        "else:\n",
        "  print('\\n--- Job completed!', \n",
        "        f'총 {len(review_elems):,}개의 리뷰 데이터를 수집했습니다.', \n",
        "        '-' * 11, '\\n') "
      ]
    },
    {
      "cell_type": "code",
      "execution_count": null,
      "metadata": {
        "id": "B_EMucLhsTh3",
        "colab": {
          "base_uri": "https://localhost:8080/",
          "height": 256
        },
        "outputId": "2ca7abec-fb64-4962-b2ef-479cee570fce"
      },
      "outputs": [
        {
          "output_type": "stream",
          "name": "stdout",
          "text": [
            "총 리뷰 개수.......: 4,654개\n",
            "총 리뷰 평점 개수...: 4,654개\n",
            "10 - 마블 영화의 마지막 종지부를 찍는 영화다. 가슴 웅장해지는거 ㄹㅇ 실화냐... 마블은 ㄹㅇ 전설이다... 그 찐따 같던 마블영웅들 맞냐.. 강해진 모습보니 내가 다 감격스럽고 너무 좋았다...\n",
            "10 - 재미있다, 잘 만들었다. 더 이상 어쩌라구!\n",
            "10 - 마무리까지 완벽했다 그 전 인피니티워의 감동과 대적할만한 내 인생 히어로물 희대의 명작 중 하나!!\n",
            "10 - 마지막에 아이언맨이 죽어서 슬픔ㅠㅠ\n",
            "10 - 댓글봐라 그냥 10점주면 될것을 니들이 영화를 평가할 수준이 되냐 역겨운것들아!!!\n",
            "10 - 진짜 다음 영화 억까질 하는거 개역겹네 아주 주댕이로는 유명 영화평론가 납셨지 아주 ㅋㅋㅋㅋㅋ\n",
            "9 - 와 너무 재밌어 시간 가는줄 모르고 봤네요\n",
            "10 - 울었다. 너무 슬프다. \n",
            "10 - 한마디만 할게요  \"재미있다\"\n",
            "10 - 엔드게임리얼후기https://miteri.tistory.com/m/77  토니스타크의 인생명작 \n",
            "수집한 데이터를 'movie-reviews_EndGame.txt'로 저장하였습니다.\n"
          ]
        },
        {
          "output_type": "display_data",
          "data": {
            "application/javascript": [
              "\n",
              "    async function download(id, filename, size) {\n",
              "      if (!google.colab.kernel.accessAllowed) {\n",
              "        return;\n",
              "      }\n",
              "      const div = document.createElement('div');\n",
              "      const label = document.createElement('label');\n",
              "      label.textContent = `Downloading \"${filename}\": `;\n",
              "      div.appendChild(label);\n",
              "      const progress = document.createElement('progress');\n",
              "      progress.max = size;\n",
              "      div.appendChild(progress);\n",
              "      document.body.appendChild(div);\n",
              "\n",
              "      const buffers = [];\n",
              "      let downloaded = 0;\n",
              "\n",
              "      const channel = await google.colab.kernel.comms.open(id);\n",
              "      // Send a message to notify the kernel that we're ready.\n",
              "      channel.send({})\n",
              "\n",
              "      for await (const message of channel.messages) {\n",
              "        // Send a message to notify the kernel that we're ready.\n",
              "        channel.send({})\n",
              "        if (message.buffers) {\n",
              "          for (const buffer of message.buffers) {\n",
              "            buffers.push(buffer);\n",
              "            downloaded += buffer.byteLength;\n",
              "            progress.value = downloaded;\n",
              "          }\n",
              "        }\n",
              "      }\n",
              "      const blob = new Blob(buffers, {type: 'application/binary'});\n",
              "      const a = document.createElement('a');\n",
              "      a.href = window.URL.createObjectURL(blob);\n",
              "      a.download = filename;\n",
              "      div.appendChild(a);\n",
              "      a.click();\n",
              "      div.remove();\n",
              "    }\n",
              "  "
            ],
            "text/plain": [
              "<IPython.core.display.Javascript object>"
            ]
          },
          "metadata": {}
        },
        {
          "output_type": "display_data",
          "data": {
            "application/javascript": [
              "download(\"download_178e4b1c-3033-4381-91c0-bed9d8ad9ca1\", \"movie-reviews_EndGame.txt\", 433989)"
            ],
            "text/plain": [
              "<IPython.core.display.Javascript object>"
            ]
          },
          "metadata": {}
        }
      ],
      "source": [
        "#리뷰 저장\n",
        "\n",
        "print(f'총 리뷰 개수.......: {len(comments):,}개')\n",
        "print(f'총 리뷰 평점 개수...: {len(ratings):,}개')\n",
        "\n",
        "for i, score in enumerate(ratings[:10]):\n",
        "  print(f'{score} - {comments[i]}')\n",
        "\n",
        "filename_reviews = 'movie-reviews_EndGame.txt'\n",
        "\n",
        "with open(filename_reviews, mode='w', encoding='utf-8') as file:\n",
        "  for i, score in enumerate(ratings):\n",
        "    file.write(score + '|')           \n",
        "    file.write(comments[i] + '\\n')  \n",
        "      \n",
        "print(f\"수집한 데이터를 '{filename_reviews}'로 저장하였습니다.\")\n",
        "\n",
        "from google.colab import files\n",
        "files.download('movie-reviews_EndGame.txt')"
      ]
    },
    {
      "cell_type": "code",
      "execution_count": null,
      "metadata": {
        "id": "epXWoNqxlEsc",
        "colab": {
          "base_uri": "https://localhost:8080/",
          "height": 17
        },
        "outputId": "a7f6778d-40d5-447a-ae31-2d883b62b940"
      },
      "outputs": [
        {
          "output_type": "display_data",
          "data": {
            "application/javascript": [
              "\n",
              "    async function download(id, filename, size) {\n",
              "      if (!google.colab.kernel.accessAllowed) {\n",
              "        return;\n",
              "      }\n",
              "      const div = document.createElement('div');\n",
              "      const label = document.createElement('label');\n",
              "      label.textContent = `Downloading \"${filename}\": `;\n",
              "      div.appendChild(label);\n",
              "      const progress = document.createElement('progress');\n",
              "      progress.max = size;\n",
              "      div.appendChild(progress);\n",
              "      document.body.appendChild(div);\n",
              "\n",
              "      const buffers = [];\n",
              "      let downloaded = 0;\n",
              "\n",
              "      const channel = await google.colab.kernel.comms.open(id);\n",
              "      // Send a message to notify the kernel that we're ready.\n",
              "      channel.send({})\n",
              "\n",
              "      for await (const message of channel.messages) {\n",
              "        // Send a message to notify the kernel that we're ready.\n",
              "        channel.send({})\n",
              "        if (message.buffers) {\n",
              "          for (const buffer of message.buffers) {\n",
              "            buffers.push(buffer);\n",
              "            downloaded += buffer.byteLength;\n",
              "            progress.value = downloaded;\n",
              "          }\n",
              "        }\n",
              "      }\n",
              "      const blob = new Blob(buffers, {type: 'application/binary'});\n",
              "      const a = document.createElement('a');\n",
              "      a.href = window.URL.createObjectURL(blob);\n",
              "      a.download = filename;\n",
              "      div.appendChild(a);\n",
              "      a.click();\n",
              "      div.remove();\n",
              "    }\n",
              "  "
            ],
            "text/plain": [
              "<IPython.core.display.Javascript object>"
            ]
          },
          "metadata": {}
        },
        {
          "output_type": "display_data",
          "data": {
            "application/javascript": [
              "download(\"download_8aa59a4d-8ff3-4a2b-a8f3-3450fd9e91ee\", \"movie-reviews_EndGame.csv\", 456849)"
            ],
            "text/plain": [
              "<IPython.core.display.Javascript object>"
            ]
          },
          "metadata": {}
        }
      ],
      "source": [
        "import pandas as pd\n",
        "\n",
        "\n",
        "pd = pd.DataFrame({'ratings':ratings,\n",
        "                             'comments':comments})   #index 지정\n",
        "pd.to_csv(\"movie-reviews_EndGame.csv\",encoding=\"utf-8-sig\")\n",
        "files.download('movie-reviews_EndGame.csv')"
      ]
    },
    {
      "cell_type": "code",
      "execution_count": null,
      "metadata": {
        "id": "YD2XAvAYrCpN"
      },
      "outputs": [],
      "source": [
        ""
      ]
    }
  ],
  "metadata": {
    "colab": {
      "collapsed_sections": [],
      "name": "영화리뷰 크롤링.ipynb",
      "toc_visible": true,
      "provenance": []
    },
    "kernelspec": {
      "display_name": "Python 3",
      "name": "python3"
    },
    "language_info": {
      "name": "python"
    }
  },
  "nbformat": 4,
  "nbformat_minor": 0
}